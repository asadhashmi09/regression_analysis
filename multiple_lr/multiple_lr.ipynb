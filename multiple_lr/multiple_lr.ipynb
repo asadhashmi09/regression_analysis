{
 "cells": [
  {
   "cell_type": "markdown",
   "metadata": {},
   "source": [
    "<h1><center>Lab Assignment 3</center></h1>\n",
    "\n",
    "<center> DUE: <font color = 'blue'> Thursday, October 19 by 2:59 PM (EST)</font> via Canvas </center>\n",
    "\n",
    "Please submit:\n",
    "\n",
    "1) a PDF with all code in-line, generated from Jupytor Notebook\n",
    "      - If there is an error when you generate pdf, please refer this.\n",
    "  [4 ways to export Jupyter Notebook as PDF](https://mljar.com/blog/jupyter-notebook-pdf/#:~:text=The%20Jupyter%20Notebook%20has%20an,not%20visible%20in%20the%20screenshot)\n",
    "      - <font color = red>If you submit your result as ipynb extension, you will deduct points.</font>"
   ]
  },
  {
   "cell_type": "markdown",
   "metadata": {},
   "source": [
    "<h3><center>[Your Name Here]</center></h3>"
   ]
  },
  {
   "cell_type": "markdown",
   "metadata": {},
   "source": [
    "### Problem Description"
   ]
  },
  {
   "cell_type": "markdown",
   "metadata": {},
   "source": [
    "The price of a used car depends on various factors such as mileage, make, model, engine capacity, interior style and geographic location. Given a partial database of the Kelley Blue Book (`lab3_data.csv`), you will learn how multiple regression can be used to estimate a car’s price.\n",
    " \n",
    "**Round your answers to two decimal places, and include all code and figures.**\n",
    "(In this assignment, you will not need to use Excel.)"
   ]
  },
  {
   "cell_type": "code",
   "execution_count": 17,
   "metadata": {},
   "outputs": [],
   "source": [
    "import numpy as np                    #to use matrix operations\n",
    "import pandas as pd                   #to handle data\n",
    "import matplotlib.pyplot as plt       #to draw plot\n",
    "import statsmodels.api as sm          #to use statistical model\n",
    "import statsmodels.formula.api as smf #to use statistical model"
   ]
  },
  {
   "cell_type": "markdown",
   "metadata": {},
   "source": [
    "#### (a) (2 points)"
   ]
  },
  {
   "cell_type": "markdown",
   "metadata": {},
   "source": [
    "**Using Python, draw a scatter plot of price ($y$) vs. mileage ($x$).** "
   ]
  },
  {
   "cell_type": "code",
   "execution_count": 18,
   "metadata": {},
   "outputs": [
    {
     "data": {
      "text/html": [
       "<div>\n",
       "<style scoped>\n",
       "    .dataframe tbody tr th:only-of-type {\n",
       "        vertical-align: middle;\n",
       "    }\n",
       "\n",
       "    .dataframe tbody tr th {\n",
       "        vertical-align: top;\n",
       "    }\n",
       "\n",
       "    .dataframe thead th {\n",
       "        text-align: right;\n",
       "    }\n",
       "</style>\n",
       "<table border=\"1\" class=\"dataframe\">\n",
       "  <thead>\n",
       "    <tr style=\"text-align: right;\">\n",
       "      <th></th>\n",
       "      <th>Price</th>\n",
       "      <th>Mileage</th>\n",
       "      <th>Liter</th>\n",
       "      <th>Doors</th>\n",
       "      <th>Cruise</th>\n",
       "      <th>Sound</th>\n",
       "      <th>Leather</th>\n",
       "      <th>IsPontiac</th>\n",
       "    </tr>\n",
       "  </thead>\n",
       "  <tbody>\n",
       "    <tr>\n",
       "      <th>0</th>\n",
       "      <td>12147.18803</td>\n",
       "      <td>10011</td>\n",
       "      <td>1.6</td>\n",
       "      <td>4</td>\n",
       "      <td>0</td>\n",
       "      <td>0</td>\n",
       "      <td>1</td>\n",
       "      <td>0</td>\n",
       "    </tr>\n",
       "    <tr>\n",
       "      <th>1</th>\n",
       "      <td>12163.82042</td>\n",
       "      <td>12101</td>\n",
       "      <td>1.6</td>\n",
       "      <td>4</td>\n",
       "      <td>0</td>\n",
       "      <td>0</td>\n",
       "      <td>1</td>\n",
       "      <td>0</td>\n",
       "    </tr>\n",
       "    <tr>\n",
       "      <th>2</th>\n",
       "      <td>11472.02276</td>\n",
       "      <td>19699</td>\n",
       "      <td>1.6</td>\n",
       "      <td>4</td>\n",
       "      <td>0</td>\n",
       "      <td>0</td>\n",
       "      <td>1</td>\n",
       "      <td>0</td>\n",
       "    </tr>\n",
       "    <tr>\n",
       "      <th>3</th>\n",
       "      <td>11017.16871</td>\n",
       "      <td>20100</td>\n",
       "      <td>1.6</td>\n",
       "      <td>4</td>\n",
       "      <td>0</td>\n",
       "      <td>1</td>\n",
       "      <td>0</td>\n",
       "      <td>0</td>\n",
       "    </tr>\n",
       "    <tr>\n",
       "      <th>4</th>\n",
       "      <td>11096.85727</td>\n",
       "      <td>20334</td>\n",
       "      <td>1.6</td>\n",
       "      <td>4</td>\n",
       "      <td>1</td>\n",
       "      <td>0</td>\n",
       "      <td>0</td>\n",
       "      <td>0</td>\n",
       "    </tr>\n",
       "  </tbody>\n",
       "</table>\n",
       "</div>"
      ],
      "text/plain": [
       "         Price  Mileage  Liter  Doors  Cruise  Sound  Leather  IsPontiac\n",
       "0  12147.18803    10011    1.6      4       0      0        1          0\n",
       "1  12163.82042    12101    1.6      4       0      0        1          0\n",
       "2  11472.02276    19699    1.6      4       0      0        1          0\n",
       "3  11017.16871    20100    1.6      4       0      1        0          0\n",
       "4  11096.85727    20334    1.6      4       1      0        0          0"
      ]
     },
     "execution_count": 18,
     "metadata": {},
     "output_type": "execute_result"
    }
   ],
   "source": [
    "df = pd.read_csv(\"lab3_data.csv\")\n",
    "df.head()"
   ]
  },
  {
   "cell_type": "code",
   "execution_count": 19,
   "metadata": {},
   "outputs": [
    {
     "data": {
      "image/png": "[encoded data removed]",
      "text/plain": [
       "<Figure size 640x480 with 1 Axes>"
      ]
     },
     "metadata": {},
     "output_type": "display_data"
    }
   ],
   "source": [
    "\n",
    "\n",
    "x = 'Mileage'  \n",
    "y = 'Price'  \n",
    "\n",
    "plt.scatter(df[x], df[y], color='blue', marker='o')\n",
    "plt.xlabel('Mileage')\n",
    "plt.ylabel('Price')\n",
    "plt.title('Mileage vs Price')\n",
    "plt.show()"
   ]
  },
  {
   "cell_type": "markdown",
   "metadata": {},
   "source": [
    "#### (b) (4 points)"
   ]
  },
  {
   "cell_type": "markdown",
   "metadata": {},
   "source": [
    "**Using Python, obtain the coefficients of the simple linear regression equation explaining the relationship between price (as a response variable) and mileage (as an explanatory variable). What is the coefficient of determination of this model?**"
   ]
  },
  {
   "cell_type": "code",
   "execution_count": 20,
   "metadata": {},
   "outputs": [
    {
     "data": {
      "text/html": [
       "<table class=\"simpletable\">\n",
       "<caption>OLS Regression Results</caption>\n",
       "<tr>\n",
       "  <th>Dep. Variable:</th>          <td>Price</td>      <th>  R-squared:         </th> <td>   0.033</td>\n",
       "</tr>\n",
       "<tr>\n",
       "  <th>Model:</th>                   <td>OLS</td>       <th>  Adj. R-squared:    </th> <td>   0.031</td>\n",
       "</tr>\n",
       "<tr>\n",
       "  <th>Method:</th>             <td>Least Squares</td>  <th>  F-statistic:       </th> <td>   15.89</td>\n",
       "</tr>\n",
       "<tr>\n",
       "  <th>Date:</th>             <td>Mon, 16 Oct 2023</td> <th>  Prob (F-statistic):</th> <td>7.79e-05</td>\n",
       "</tr>\n",
       "<tr>\n",
       "  <th>Time:</th>                 <td>01:37:18</td>     <th>  Log-Likelihood:    </th> <td> -4763.6</td>\n",
       "</tr>\n",
       "<tr>\n",
       "  <th>No. Observations:</th>      <td>   470</td>      <th>  AIC:               </th> <td>   9531.</td>\n",
       "</tr>\n",
       "<tr>\n",
       "  <th>Df Residuals:</th>          <td>   468</td>      <th>  BIC:               </th> <td>   9540.</td>\n",
       "</tr>\n",
       "<tr>\n",
       "  <th>Df Model:</th>              <td>     1</td>      <th>                     </th>     <td> </td>   \n",
       "</tr>\n",
       "<tr>\n",
       "  <th>Covariance Type:</th>      <td>nonrobust</td>    <th>                     </th>     <td> </td>   \n",
       "</tr>\n",
       "</table>\n",
       "<table class=\"simpletable\">\n",
       "<tr>\n",
       "      <td></td>         <th>coef</th>     <th>std err</th>      <th>t</th>      <th>P>|t|</th>  <th>[0.025</th>    <th>0.975]</th>  \n",
       "</tr>\n",
       "<tr>\n",
       "  <th>Intercept</th> <td> 1.976e+04</td> <td>  732.493</td> <td>   26.972</td> <td> 0.000</td> <td> 1.83e+04</td> <td> 2.12e+04</td>\n",
       "</tr>\n",
       "<tr>\n",
       "  <th>Mileage</th>   <td>   -0.1378</td> <td>    0.035</td> <td>   -3.986</td> <td> 0.000</td> <td>   -0.206</td> <td>   -0.070</td>\n",
       "</tr>\n",
       "</table>\n",
       "<table class=\"simpletable\">\n",
       "<tr>\n",
       "  <th>Omnibus:</th>       <td>222.808</td> <th>  Durbin-Watson:     </th> <td>   0.112</td> \n",
       "</tr>\n",
       "<tr>\n",
       "  <th>Prob(Omnibus):</th> <td> 0.000</td>  <th>  Jarque-Bera (JB):  </th> <td> 992.268</td> \n",
       "</tr>\n",
       "<tr>\n",
       "  <th>Skew:</th>          <td> 2.141</td>  <th>  Prob(JB):          </th> <td>3.40e-216</td>\n",
       "</tr>\n",
       "<tr>\n",
       "  <th>Kurtosis:</th>      <td> 8.686</td>  <th>  Cond. No.          </th> <td>5.50e+04</td> \n",
       "</tr>\n",
       "</table><br/><br/>Notes:<br/>[1] Standard Errors assume that the covariance matrix of the errors is correctly specified.<br/>[2] The condition number is large, 5.5e+04. This might indicate that there are<br/>strong multicollinearity or other numerical problems."
      ],
      "text/latex": [
       "\\begin{center}\n",
       "\\begin{tabular}{lclc}\n",
       "\\toprule\n",
       "\\textbf{Dep. Variable:}    &      Price       & \\textbf{  R-squared:         } &     0.033   \\\\\n",
       "\\textbf{Model:}            &       OLS        & \\textbf{  Adj. R-squared:    } &     0.031   \\\\\n",
       "\\textbf{Method:}           &  Least Squares   & \\textbf{  F-statistic:       } &     15.89   \\\\\n",
       "\\textbf{Date:}             & Mon, 16 Oct 2023 & \\textbf{  Prob (F-statistic):} &  7.79e-05   \\\\\n",
       "\\textbf{Time:}             &     01:37:18     & \\textbf{  Log-Likelihood:    } &   -4763.6   \\\\\n",
       "\\textbf{No. Observations:} &         470      & \\textbf{  AIC:               } &     9531.   \\\\\n",
       "\\textbf{Df Residuals:}     &         468      & \\textbf{  BIC:               } &     9540.   \\\\\n",
       "\\textbf{Df Model:}         &           1      & \\textbf{                     } &             \\\\\n",
       "\\textbf{Covariance Type:}  &    nonrobust     & \\textbf{                     } &             \\\\\n",
       "\\bottomrule\n",
       "\\end{tabular}\n",
       "\\begin{tabular}{lcccccc}\n",
       "                   & \\textbf{coef} & \\textbf{std err} & \\textbf{t} & \\textbf{P$> |$t$|$} & \\textbf{[0.025} & \\textbf{0.975]}  \\\\\n",
       "\\midrule\n",
       "\\textbf{Intercept} &    1.976e+04  &      732.493     &    26.972  &         0.000        &     1.83e+04    &     2.12e+04     \\\\\n",
       "\\textbf{Mileage}   &      -0.1378  &        0.035     &    -3.986  &         0.000        &       -0.206    &       -0.070     \\\\\n",
       "\\bottomrule\n",
       "\\end{tabular}\n",
       "\\begin{tabular}{lclc}\n",
       "\\textbf{Omnibus:}       & 222.808 & \\textbf{  Durbin-Watson:     } &     0.112  \\\\\n",
       "\\textbf{Prob(Omnibus):} &   0.000 & \\textbf{  Jarque-Bera (JB):  } &   992.268  \\\\\n",
       "\\textbf{Skew:}          &   2.141 & \\textbf{  Prob(JB):          } & 3.40e-216  \\\\\n",
       "\\textbf{Kurtosis:}      &   8.686 & \\textbf{  Cond. No.          } &  5.50e+04  \\\\\n",
       "\\bottomrule\n",
       "\\end{tabular}\n",
       "%\\caption{OLS Regression Results}\n",
       "\\end{center}\n",
       "\n",
       "Notes: \\newline\n",
       " [1] Standard Errors assume that the covariance matrix of the errors is correctly specified. \\newline\n",
       " [2] The condition number is large, 5.5e+04. This might indicate that there are \\newline\n",
       " strong multicollinearity or other numerical problems."
      ],
      "text/plain": [
       "<class 'statsmodels.iolib.summary.Summary'>\n",
       "\"\"\"\n",
       "                            OLS Regression Results                            \n",
       "==============================================================================\n",
       "Dep. Variable:                  Price   R-squared:                       0.033\n",
       "Model:                            OLS   Adj. R-squared:                  0.031\n",
       "Method:                 Least Squares   F-statistic:                     15.89\n",
       "Date:                Mon, 16 Oct 2023   Prob (F-statistic):           7.79e-05\n",
       "Time:                        01:37:18   Log-Likelihood:                -4763.6\n",
       "No. Observations:                 470   AIC:                             9531.\n",
       "Df Residuals:                     468   BIC:                             9540.\n",
       "Df Model:                           1                                         \n",
       "Covariance Type:            nonrobust                                         \n",
       "==============================================================================\n",
       "                 coef    std err          t      P>|t|      [0.025      0.975]\n",
       "------------------------------------------------------------------------------\n",
       "Intercept   1.976e+04    732.493     26.972      0.000    1.83e+04    2.12e+04\n",
       "Mileage       -0.1378      0.035     -3.986      0.000      -0.206      -0.070\n",
       "==============================================================================\n",
       "Omnibus:                      222.808   Durbin-Watson:                   0.112\n",
       "Prob(Omnibus):                  0.000   Jarque-Bera (JB):              992.268\n",
       "Skew:                           2.141   Prob(JB):                    3.40e-216\n",
       "Kurtosis:                       8.686   Cond. No.                     5.50e+04\n",
       "==============================================================================\n",
       "\n",
       "Notes:\n",
       "[1] Standard Errors assume that the covariance matrix of the errors is correctly specified.\n",
       "[2] The condition number is large, 5.5e+04. This might indicate that there are\n",
       "strong multicollinearity or other numerical problems.\n",
       "\"\"\""
      ]
     },
     "execution_count": 20,
     "metadata": {},
     "output_type": "execute_result"
    }
   ],
   "source": [
    "lm_model = smf.ols(\n",
    "        formula = 'Price ~ Mileage',data=df).fit()\n",
    "lm_model.summary()"
   ]
  },
  {
   "cell_type": "markdown",
   "metadata": {},
   "source": [
    "**Answer**\n",
    "The coefficents explaining the relationship is the Mileage and the price which can be modeled by y = -0.1378x + 1.976e+04. The coefficent of determination AKA R-Squared is 0.033. "
   ]
  },
  {
   "cell_type": "markdown",
   "metadata": {},
   "source": [
    "#### (c) (3 points)"
   ]
  },
  {
   "cell_type": "markdown",
   "metadata": {},
   "source": [
    "In part (b), you may observe that the coefficient of determination is small despite model significance being strongly supported. That is, a significant model may explain very little about the observed variation in $y$. **Does this make sense to you? Please provide a brief explanation of this phenomenon.**"
   ]
  },
  {
   "cell_type": "markdown",
   "metadata": {},
   "source": [
    "**Answer**\n",
    "\n",
    "Yes, this does make sense to me because we have a situation where we have a small p-value and a small R-Squared value to go alongside that. It is also possible to have a significant model with a low R-Squared because practical and statistical significance arent the same thing. Other factors (other variables) cause noise that explain other variations. \n",
    "\n"
   ]
  },
  {
   "cell_type": "markdown",
   "metadata": {},
   "source": [
    "#### (d) (4 points)"
   ]
  },
  {
   "cell_type": "markdown",
   "metadata": {},
   "source": [
    "**Using Python, obtain the coefficients of the multiple linear regression equation explaining the relationship between price (as a response variable) and all the other characteristics of a car (mileage, liters, doors, cruise, sound, leather, and isPontiac). Does the coefficient of determination differ from your model in part (b)?**"
   ]
  },
  {
   "cell_type": "code",
   "execution_count": 21,
   "metadata": {},
   "outputs": [
    {
     "data": {
      "text/html": [
       "<table class=\"simpletable\">\n",
       "<caption>OLS Regression Results</caption>\n",
       "<tr>\n",
       "  <th>Dep. Variable:</th>          <td>Price</td>      <th>  R-squared:         </th> <td>   0.816</td> \n",
       "</tr>\n",
       "<tr>\n",
       "  <th>Model:</th>                   <td>OLS</td>       <th>  Adj. R-squared:    </th> <td>   0.813</td> \n",
       "</tr>\n",
       "<tr>\n",
       "  <th>Method:</th>             <td>Least Squares</td>  <th>  F-statistic:       </th> <td>   293.1</td> \n",
       "</tr>\n",
       "<tr>\n",
       "  <th>Date:</th>             <td>Mon, 16 Oct 2023</td> <th>  Prob (F-statistic):</th> <td>1.67e-165</td>\n",
       "</tr>\n",
       "<tr>\n",
       "  <th>Time:</th>                 <td>01:37:20</td>     <th>  Log-Likelihood:    </th> <td> -4373.3</td> \n",
       "</tr>\n",
       "<tr>\n",
       "  <th>No. Observations:</th>      <td>   470</td>      <th>  AIC:               </th> <td>   8763.</td> \n",
       "</tr>\n",
       "<tr>\n",
       "  <th>Df Residuals:</th>          <td>   462</td>      <th>  BIC:               </th> <td>   8796.</td> \n",
       "</tr>\n",
       "<tr>\n",
       "  <th>Df Model:</th>              <td>     7</td>      <th>                     </th>     <td> </td>    \n",
       "</tr>\n",
       "<tr>\n",
       "  <th>Covariance Type:</th>      <td>nonrobust</td>    <th>                     </th>     <td> </td>    \n",
       "</tr>\n",
       "</table>\n",
       "<table class=\"simpletable\">\n",
       "<tr>\n",
       "      <td></td>         <th>coef</th>     <th>std err</th>      <th>t</th>      <th>P>|t|</th>  <th>[0.025</th>    <th>0.975]</th>  \n",
       "</tr>\n",
       "<tr>\n",
       "  <th>Intercept</th> <td> 8064.8579</td> <td>  849.606</td> <td>    9.492</td> <td> 0.000</td> <td> 6395.286</td> <td> 9734.430</td>\n",
       "</tr>\n",
       "<tr>\n",
       "  <th>Mileage</th>   <td>   -0.1442</td> <td>    0.015</td> <td>   -9.478</td> <td> 0.000</td> <td>   -0.174</td> <td>   -0.114</td>\n",
       "</tr>\n",
       "<tr>\n",
       "  <th>Liter</th>     <td> 4668.3022</td> <td>  125.358</td> <td>   37.240</td> <td> 0.000</td> <td> 4421.961</td> <td> 4914.644</td>\n",
       "</tr>\n",
       "<tr>\n",
       "  <th>Doors</th>     <td> -480.9547</td> <td>  147.948</td> <td>   -3.251</td> <td> 0.001</td> <td> -771.689</td> <td> -190.221</td>\n",
       "</tr>\n",
       "<tr>\n",
       "  <th>Cruise</th>    <td> -270.2777</td> <td>  292.825</td> <td>   -0.923</td> <td> 0.356</td> <td> -845.712</td> <td>  305.157</td>\n",
       "</tr>\n",
       "<tr>\n",
       "  <th>Sound</th>     <td> -853.9114</td> <td>  316.269</td> <td>   -2.700</td> <td> 0.007</td> <td>-1475.415</td> <td> -232.408</td>\n",
       "</tr>\n",
       "<tr>\n",
       "  <th>Leather</th>   <td>  367.4470</td> <td>  314.004</td> <td>    1.170</td> <td> 0.243</td> <td> -249.606</td> <td>  984.500</td>\n",
       "</tr>\n",
       "<tr>\n",
       "  <th>IsPontiac</th> <td>  -51.0169</td> <td>  282.506</td> <td>   -0.181</td> <td> 0.857</td> <td> -606.174</td> <td>  504.140</td>\n",
       "</tr>\n",
       "</table>\n",
       "<table class=\"simpletable\">\n",
       "<tr>\n",
       "  <th>Omnibus:</th>       <td>135.422</td> <th>  Durbin-Watson:     </th> <td>   0.218</td>\n",
       "</tr>\n",
       "<tr>\n",
       "  <th>Prob(Omnibus):</th> <td> 0.000</td>  <th>  Jarque-Bera (JB):  </th> <td> 400.050</td>\n",
       "</tr>\n",
       "<tr>\n",
       "  <th>Skew:</th>          <td> 1.360</td>  <th>  Prob(JB):          </th> <td>1.35e-87</td>\n",
       "</tr>\n",
       "<tr>\n",
       "  <th>Kurtosis:</th>      <td> 6.609</td>  <th>  Cond. No.          </th> <td>1.49e+05</td>\n",
       "</tr>\n",
       "</table><br/><br/>Notes:<br/>[1] Standard Errors assume that the covariance matrix of the errors is correctly specified.<br/>[2] The condition number is large, 1.49e+05. This might indicate that there are<br/>strong multicollinearity or other numerical problems."
      ],
      "text/latex": [
       "\\begin{center}\n",
       "\\begin{tabular}{lclc}\n",
       "\\toprule\n",
       "\\textbf{Dep. Variable:}    &      Price       & \\textbf{  R-squared:         } &     0.816   \\\\\n",
       "\\textbf{Model:}            &       OLS        & \\textbf{  Adj. R-squared:    } &     0.813   \\\\\n",
       "\\textbf{Method:}           &  Least Squares   & \\textbf{  F-statistic:       } &     293.1   \\\\\n",
       "\\textbf{Date:}             & Mon, 16 Oct 2023 & \\textbf{  Prob (F-statistic):} & 1.67e-165   \\\\\n",
       "\\textbf{Time:}             &     01:37:20     & \\textbf{  Log-Likelihood:    } &   -4373.3   \\\\\n",
       "\\textbf{No. Observations:} &         470      & \\textbf{  AIC:               } &     8763.   \\\\\n",
       "\\textbf{Df Residuals:}     &         462      & \\textbf{  BIC:               } &     8796.   \\\\\n",
       "\\textbf{Df Model:}         &           7      & \\textbf{                     } &             \\\\\n",
       "\\textbf{Covariance Type:}  &    nonrobust     & \\textbf{                     } &             \\\\\n",
       "\\bottomrule\n",
       "\\end{tabular}\n",
       "\\begin{tabular}{lcccccc}\n",
       "                   & \\textbf{coef} & \\textbf{std err} & \\textbf{t} & \\textbf{P$> |$t$|$} & \\textbf{[0.025} & \\textbf{0.975]}  \\\\\n",
       "\\midrule\n",
       "\\textbf{Intercept} &    8064.8579  &      849.606     &     9.492  &         0.000        &     6395.286    &     9734.430     \\\\\n",
       "\\textbf{Mileage}   &      -0.1442  &        0.015     &    -9.478  &         0.000        &       -0.174    &       -0.114     \\\\\n",
       "\\textbf{Liter}     &    4668.3022  &      125.358     &    37.240  &         0.000        &     4421.961    &     4914.644     \\\\\n",
       "\\textbf{Doors}     &    -480.9547  &      147.948     &    -3.251  &         0.001        &     -771.689    &     -190.221     \\\\\n",
       "\\textbf{Cruise}    &    -270.2777  &      292.825     &    -0.923  &         0.356        &     -845.712    &      305.157     \\\\\n",
       "\\textbf{Sound}     &    -853.9114  &      316.269     &    -2.700  &         0.007        &    -1475.415    &     -232.408     \\\\\n",
       "\\textbf{Leather}   &     367.4470  &      314.004     &     1.170  &         0.243        &     -249.606    &      984.500     \\\\\n",
       "\\textbf{IsPontiac} &     -51.0169  &      282.506     &    -0.181  &         0.857        &     -606.174    &      504.140     \\\\\n",
       "\\bottomrule\n",
       "\\end{tabular}\n",
       "\\begin{tabular}{lclc}\n",
       "\\textbf{Omnibus:}       & 135.422 & \\textbf{  Durbin-Watson:     } &    0.218  \\\\\n",
       "\\textbf{Prob(Omnibus):} &   0.000 & \\textbf{  Jarque-Bera (JB):  } &  400.050  \\\\\n",
       "\\textbf{Skew:}          &   1.360 & \\textbf{  Prob(JB):          } & 1.35e-87  \\\\\n",
       "\\textbf{Kurtosis:}      &   6.609 & \\textbf{  Cond. No.          } & 1.49e+05  \\\\\n",
       "\\bottomrule\n",
       "\\end{tabular}\n",
       "%\\caption{OLS Regression Results}\n",
       "\\end{center}\n",
       "\n",
       "Notes: \\newline\n",
       " [1] Standard Errors assume that the covariance matrix of the errors is correctly specified. \\newline\n",
       " [2] The condition number is large, 1.49e+05. This might indicate that there are \\newline\n",
       " strong multicollinearity or other numerical problems."
      ],
      "text/plain": [
       "<class 'statsmodels.iolib.summary.Summary'>\n",
       "\"\"\"\n",
       "                            OLS Regression Results                            \n",
       "==============================================================================\n",
       "Dep. Variable:                  Price   R-squared:                       0.816\n",
       "Model:                            OLS   Adj. R-squared:                  0.813\n",
       "Method:                 Least Squares   F-statistic:                     293.1\n",
       "Date:                Mon, 16 Oct 2023   Prob (F-statistic):          1.67e-165\n",
       "Time:                        01:37:20   Log-Likelihood:                -4373.3\n",
       "No. Observations:                 470   AIC:                             8763.\n",
       "Df Residuals:                     462   BIC:                             8796.\n",
       "Df Model:                           7                                         \n",
       "Covariance Type:            nonrobust                                         \n",
       "==============================================================================\n",
       "                 coef    std err          t      P>|t|      [0.025      0.975]\n",
       "------------------------------------------------------------------------------\n",
       "Intercept   8064.8579    849.606      9.492      0.000    6395.286    9734.430\n",
       "Mileage       -0.1442      0.015     -9.478      0.000      -0.174      -0.114\n",
       "Liter       4668.3022    125.358     37.240      0.000    4421.961    4914.644\n",
       "Doors       -480.9547    147.948     -3.251      0.001    -771.689    -190.221\n",
       "Cruise      -270.2777    292.825     -0.923      0.356    -845.712     305.157\n",
       "Sound       -853.9114    316.269     -2.700      0.007   -1475.415    -232.408\n",
       "Leather      367.4470    314.004      1.170      0.243    -249.606     984.500\n",
       "IsPontiac    -51.0169    282.506     -0.181      0.857    -606.174     504.140\n",
       "==============================================================================\n",
       "Omnibus:                      135.422   Durbin-Watson:                   0.218\n",
       "Prob(Omnibus):                  0.000   Jarque-Bera (JB):              400.050\n",
       "Skew:                           1.360   Prob(JB):                     1.35e-87\n",
       "Kurtosis:                       6.609   Cond. No.                     1.49e+05\n",
       "==============================================================================\n",
       "\n",
       "Notes:\n",
       "[1] Standard Errors assume that the covariance matrix of the errors is correctly specified.\n",
       "[2] The condition number is large, 1.49e+05. This might indicate that there are\n",
       "strong multicollinearity or other numerical problems.\n",
       "\"\"\""
      ]
     },
     "execution_count": 21,
     "metadata": {},
     "output_type": "execute_result"
    }
   ],
   "source": [
    "lm_model = smf.ols(\n",
    "        formula = 'Price ~ Mileage + Liter + Doors + Cruise + Sound + Leather + IsPontiac',data=df).fit()\n",
    "lm_model.summary()"
   ]
  },
  {
   "cell_type": "markdown",
   "metadata": {},
   "source": [
    "With the added variables, the R_Squared value took a hige jump from 0.033 to 0.816. This means that the added variables to the equation help explain the relationship much better. "
   ]
  },
  {
   "cell_type": "markdown",
   "metadata": {},
   "source": [
    "#### (e) (3 points)"
   ]
  },
  {
   "cell_type": "markdown",
   "metadata": {},
   "source": [
    "**How will your round trip to Bloomington from Ann Arbor (total: 634 miles) affect the expected price of your car?** (Assume that your car is well explained by the regression model in (d) and the car specification remains the same throughout the trip.)"
   ]
  },
  {
   "cell_type": "markdown",
   "metadata": {},
   "source": [
    "**Answer**\n",
    "\n",
    "For a 634-mile round trip, you can estimate the price change as follows:\n",
    "\n",
    "Price Change = Mileage Coefficient * Miles Driven\n",
    "Price Change = (-0.1442) * 634\n",
    "\n",
    "Price Change ≈ -91.49\n",
    "\n",
    "Therefore the expected price change is -$91.49"
   ]
  },
  {
   "cell_type": "markdown",
   "metadata": {},
   "source": [
    "#### (f) (4 points)"
   ]
  },
  {
   "cell_type": "markdown",
   "metadata": {},
   "source": [
    "**Calculate manually a 95% confidence interval for the change in expected price associated with a 1-unit increase in mileage while all other explanatory variables are held fixed.**\n",
    "**Provide all steps used to arrive at your final answer. You can use the information in the linear regression model summary in question (d).**\n",
    "\n",
    "(*Hint*: use the following critical $t$-value for $\\alpha=0.05$, $n=470$, and $k=7$: $t_{\\alpha/2,\\,n-(k+1)}=1.96511$.)"
   ]
  },
  {
   "cell_type": "markdown",
   "metadata": {},
   "source": [
    "**Answer**\n",
    "\n",
    "Standard Error of the Estimate (SE):\n",
    "SE = Standard Error for Mileage = 0.015\n",
    "\n",
    "Critical t-value (α/2 = 0.025, df = 470 - (7 + 1) = 462):\n",
    "From the hint, t(α/2, 462) ≈ 1.96511\n",
    "\n",
    "Margin of Error (ME):\n",
    "ME = t(α/2, 462) * SE = 1.96511 * 0.015 ≈ 0.02947\n",
    "\n",
    "Confidence Interval:\n",
    "\n",
    "Change in Price = Mileage Coefficient = -0.1442 (from the regression output)\n",
    "\n",
    "Lower Limit of Confidence Interval: Change in Price - ME = -0.1442 - 0.02947 ≈ -0.1737\n",
    "Upper Limit of Confidence Interval: Change in Price + ME = -0.1442 + 0.02947 ≈ -0.1147\n",
    "\n",
    "\n",
    "THEREFORE: (-0.1737, -0.1147)"
   ]
  }
 ],
 "metadata": {
  "kernelspec": {
   "display_name": "Python 3 (ipykernel)",
   "language": "python",
   "name": "python3"
  },
  "language_info": {
   "codemirror_mode": {
    "name": "ipython",
    "version": 3
   },
   "file_extension": ".py",
   "mimetype": "text/x-python",
   "name": "python",
   "nbconvert_exporter": "python",
   "pygments_lexer": "ipython3",
   "version": "3.11.4"
  }
 },
 "nbformat": 4,
 "nbformat_minor": 4
}
