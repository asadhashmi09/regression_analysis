{
 "cells": [
  {
   "cell_type": "markdown",
   "metadata": {},
   "source": [
    "<h1><center>Lab Assignment 2</center></h1>\n",
    "\n",
    "<center> DUE: <font color = 'blue'> Tuesday, October 3rd by 3:00 PM (EST)</font> via Canvas </center>\n",
    "\n",
    "Please submit:\n",
    "\n",
    "1) a PDF with all code in-line, generated from Jupytor Notebook\n",
    "      - If there is an error when you generate pdf, please refer this.\n",
    "  [4 ways to export Jupyter Notebook as PDF](https://mljar.com/blog/jupyter-notebook-pdf/#:~:text=The%20Jupyter%20Notebook%20has%20an,not%20visible%20in%20the%20screenshot)\n",
    "      - <font color = red>If you submit your result as ipynb extension, you will deduct points.</font>\n",
    "      \n",
    "  \n",
    "2) an Excel workbook (.xls or .xlsx)"
   ]
  },
  {
   "cell_type": "markdown",
   "metadata": {},
   "source": [
    "<h3><center>Asad Hashmi</center></h3>"
   ]
  },
  {
   "cell_type": "markdown",
   "metadata": {},
   "source": [
    "### Problem Description"
   ]
  },
  {
   "cell_type": "markdown",
   "metadata": {},
   "source": [
    "In this assignment, you will look at the relationship between the size in carats of a diamond and its price in Singapore dollars. Based on the given dataset (lab2_data.csv), please complete the following tasks and answer the corresponding questions.\n",
    "\n",
    "<font color = 'red'> Use Python to answer the questions in (a)-(g). For (h) use the excel template provided in the class.</font>\n",
    "\n",
    "**Round your answers to two decimal places.Include all code and figures in your submission.**"
   ]
  },
  {
   "cell_type": "markdown",
   "metadata": {},
   "source": [
    "### Import libraries"
   ]
  },
  {
   "cell_type": "code",
   "execution_count": 10,
   "metadata": {},
   "outputs": [],
   "source": [
    "import numpy as np                    #to use matrix operations\n",
    "import pandas as pd                   #to handle data\n",
    "import matplotlib.pyplot as plt       #to draw plot\n",
    "import statsmodels.api as sm          #to use statistical model\n",
    "import statsmodels.formula.api as smf #to use statistical model"
   ]
  },
  {
   "cell_type": "markdown",
   "metadata": {},
   "source": [
    "#### (a) (1 points)\n",
    "\n",
    "**Using Python, construct a scatter plot of the data. (x-axis: size (carats), y-axis: price (Singapore dollars)).**"
   ]
  },
  {
   "cell_type": "code",
   "execution_count": 11,
   "metadata": {},
   "outputs": [
    {
     "data": {
      "text/plain": [
       "Text(0.5, 1.0, 'Carats vs Price (Singapore Dollars)')"
      ]
     },
     "execution_count": 11,
     "metadata": {},
     "output_type": "execute_result"
    },
    {
     "data": {
      "image/png": "[encoded data removed]",
      "text/plain": [
       "<Figure size 640x480 with 1 Axes>"
      ]
     },
     "metadata": {},
     "output_type": "display_data"
    }
   ],
   "source": [
    "df = pd.read_csv(\"lab2_data.csv\")\n",
    "x = df[\"Carats\"]\n",
    "y = df[\"Price (Singapore Dollars)\"]\n",
    "plt.scatter(x,y, label = \"Data Points\", color = 'black', marker = 'o')\n",
    "plt.xlabel('Carats')\n",
    "plt.ylabel('Price (Singapore Dollars)')\n",
    "plt.title('Carats vs Price (Singapore Dollars)')\n"
   ]
  },
  {
   "cell_type": "markdown",
   "metadata": {},
   "source": [
    "#### (b) (4 points)\n",
    "\n",
    "**Using Python, perform regression analysis and obtain a 90% <font color = 'red'>confidence interval</font> of a diamond’s price when it is 0.6 carats in size.**"
   ]
  },
  {
   "cell_type": "code",
   "execution_count": 12,
   "metadata": {},
   "outputs": [
    {
     "name": "stdout",
     "output_type": "stream",
     "text": [
      "90% Confidence Interval for Price when Carats = 0.6: [1920.08, 2034.43]\n"
     ]
    }
   ],
   "source": [
    "\n",
    "x = sm.add_constant(df[\"Carats\"])  # add a constant\n",
    "y = df[\"Price (Singapore Dollars)\"]\n",
    "model = sm.OLS(y, x).fit()\n",
    "# Obtain the confidence interval for 0.6 carats\n",
    "prediction = model.get_prediction(exog=[[1, 0.6]])\n",
    "confidence_interval = prediction.conf_int(alpha=0.10)\n",
    "\n",
    "# Extract the lower and upper bounds of the confidence interval\n",
    "lower_bound = confidence_interval[0, 0]\n",
    "upper_bound = confidence_interval[0, 1]\n",
    "\n",
    "# Print the confidence interval\n",
    "print(f\"90% Confidence Interval for Price when Carats = 0.6: [{lower_bound:.2f}, {upper_bound:.2f}]\")"
   ]
  },
  {
   "cell_type": "markdown",
   "metadata": {},
   "source": [
    "**Answer**\n",
    "\n",
    "\n",
    "|    |Lower bound | Upper bound|\n",
    "|----|-------------|---------------|\n",
    "90% CI| 1920.08 | 2034.43 |"
   ]
  },
  {
   "cell_type": "markdown",
   "metadata": {},
   "source": [
    "**The following questions, (c)-(g), should be answered using Excel. (To obtain full credit for these questions, make sure that the Excel sheet used for calculation is part of your submission.)**\n",
    "\n",
    "*NOTE*: you may want to utilize Python’s output to confirm your answers in questions (c)-(g)."
   ]
  },
  {
   "cell_type": "markdown",
   "metadata": {},
   "source": [
    "#### (c) (3 points)\n",
    "\n",
    "**Obtain sums of squares (SST, SSR, and SSE) and coefficient of determination ($R^2$). What does the coefficient of determination imply about the relationship between diamond price and size?**"
   ]
  },
  {
   "cell_type": "code",
   "execution_count": 7,
   "metadata": {},
   "outputs": [
    {
     "name": "stdout",
     "output_type": "stream",
     "text": [
      "SST: 2159764.9791666665 \n",
      "SSR: 2109158.3615616513 \n",
      "SSE: 50606.61760501434 \n",
      "R-Squared: 0.9765684608773773\n"
     ]
    }
   ],
   "source": [
    "# Assuming x and y are your data:\n",
    "\n",
    "# Adding constant to the x data\n",
    "x = sm.add_constant(x)\n",
    "\n",
    "# Building OLS model (Ordinary Least Squares)\n",
    "model = sm.OLS(y, x).fit()\n",
    "\n",
    "# Calculating predicted y values\n",
    "y_pred = model.predict(x)\n",
    "\n",
    "# Sum of squares\n",
    "SST = np.sum((y - np.mean(y))**2) \n",
    "SSR = np.sum((y_pred - np.mean(y))**2) \n",
    "SSE = np.sum((y - y_pred)**2)\n",
    "\n",
    "# R squared\n",
    "r_squared = model.rsquared\n",
    "\n",
    "print(f\"SST: {SST} \\nSSR: {SSR} \\nSSE: {SSE} \\nR-Squared: {r_squared}\")"
   ]
  },
  {
   "cell_type": "markdown",
   "metadata": {},
   "source": [
    "# **Answer**\n",
    "\n",
    "\n",
    "|      SSR |     SSE   |   SST      | $R^2$     |\n",
    "|----------|-----------|------------|-----------|\n",
    " 2109158.36 | 50606.62 | 2159764.98 | 0.9765|"
   ]
  },
  {
   "cell_type": "markdown",
   "metadata": {},
   "source": [
    "#### (d) (3 points) \n",
    "**Perform the model utility test (at the level of $\\alpha=0.05$) and state your conclusion on the model's significance.**"
   ]
  },
  {
   "cell_type": "code",
   "execution_count": 13,
   "metadata": {},
   "outputs": [
    {
     "name": "stdout",
     "output_type": "stream",
     "text": [
      "                                OLS Regression Results                               \n",
      "=====================================================================================\n",
      "Dep. Variable:     Price (Singapore Dollars)   R-squared:                       0.977\n",
      "Model:                                   OLS   Adj. R-squared:                  0.976\n",
      "Method:                        Least Squares   F-statistic:                     1917.\n",
      "Date:                       Tue, 03 Oct 2023   Prob (F-statistic):           3.79e-39\n",
      "Time:                               22:59:13   Log-Likelihood:                -235.16\n",
      "No. Observations:                         48   AIC:                             474.3\n",
      "Df Residuals:                             46   BIC:                             478.1\n",
      "Df Model:                                  1                                         \n",
      "Covariance Type:                   nonrobust                                         \n",
      "==============================================================================\n",
      "                 coef    std err          t      P>|t|      [0.025      0.975]\n",
      "------------------------------------------------------------------------------\n",
      "const       -260.9728     18.041    -14.465      0.000    -297.288    -224.658\n",
      "Carats      3730.3772     85.197     43.785      0.000    3558.885    3901.869\n",
      "==============================================================================\n",
      "Omnibus:                        0.394   Durbin-Watson:                   1.887\n",
      "Prob(Omnibus):                  0.821   Jarque-Bera (JB):                0.069\n",
      "Skew:                           0.081   Prob(JB):                        0.966\n",
      "Kurtosis:                       3.092   Cond. No.                         18.5\n",
      "==============================================================================\n",
      "\n",
      "Notes:\n",
      "[1] Standard Errors assume that the covariance matrix of the errors is correctly specified.\n"
     ]
    }
   ],
   "source": [
    "x = sm.add_constant(x)\n",
    "\n",
    "# perform the OLS regression\n",
    "model = sm.OLS(y, x)\n",
    "results = model.fit()\n",
    "\n",
    "# print out the statistics\n",
    "print(results.summary())"
   ]
  },
  {
   "cell_type": "markdown",
   "metadata": {},
   "source": [
    "**Answer**\n",
    "   \n",
    "    p-value < 𝛼 Therefore the model is statistically significant."
   ]
  },
  {
   "cell_type": "markdown",
   "metadata": {},
   "source": [
    "#### (e) (3 points) \n",
    "\n",
    "**Conduct a significance test of the slope parameter at the level of $\\alpha = 0.05$.**"
   ]
  },
  {
   "cell_type": "code",
   "execution_count": 14,
   "metadata": {},
   "outputs": [
    {
     "name": "stdout",
     "output_type": "stream",
     "text": [
      "                                OLS Regression Results                               \n",
      "=====================================================================================\n",
      "Dep. Variable:     Price (Singapore Dollars)   R-squared:                       0.977\n",
      "Model:                                   OLS   Adj. R-squared:                  0.976\n",
      "Method:                        Least Squares   F-statistic:                     1917.\n",
      "Date:                       Tue, 03 Oct 2023   Prob (F-statistic):           3.79e-39\n",
      "Time:                               23:10:56   Log-Likelihood:                -235.16\n",
      "No. Observations:                         48   AIC:                             474.3\n",
      "Df Residuals:                             46   BIC:                             478.1\n",
      "Df Model:                                  1                                         \n",
      "Covariance Type:                   nonrobust                                         \n",
      "==============================================================================\n",
      "                 coef    std err          t      P>|t|      [0.025      0.975]\n",
      "------------------------------------------------------------------------------\n",
      "const       -260.9728     18.041    -14.465      0.000    -297.288    -224.658\n",
      "Carats      3730.3772     85.197     43.785      0.000    3558.885    3901.869\n",
      "==============================================================================\n",
      "Omnibus:                        0.394   Durbin-Watson:                   1.887\n",
      "Prob(Omnibus):                  0.821   Jarque-Bera (JB):                0.069\n",
      "Skew:                           0.081   Prob(JB):                        0.966\n",
      "Kurtosis:                       3.092   Cond. No.                         18.5\n",
      "==============================================================================\n",
      "\n",
      "Notes:\n",
      "[1] Standard Errors assume that the covariance matrix of the errors is correctly specified.\n"
     ]
    }
   ],
   "source": [
    "# we need to add a constant to the x variables\n",
    "x = sm.add_constant(x)\n",
    "\n",
    "# perform the OLS regression\n",
    "model = sm.OLS(y, x)\n",
    "results = model.fit()\n",
    "\n",
    "# print out the statistics\n",
    "print(results.summary())"
   ]
  },
  {
   "cell_type": "markdown",
   "metadata": {},
   "source": [
    "**Answer**\n",
    "P> |t| less than 0.05, therefore we reject the null hypothesis and conclude that the slope is statistically significantly different from zero at a 95% confidence level, implying that \"Carats\" is a significant predictor of \"Price (Singapore Dollars)\".\n"
   ]
  },
  {
   "cell_type": "markdown",
   "metadata": {},
   "source": [
    "#### (f) (3 points) \n",
    "**Obtain 90% and 95% confidence intervals for the slope parameter.**"
   ]
  },
  {
   "cell_type": "code",
   "execution_count": 15,
   "metadata": {},
   "outputs": [
    {
     "name": "stdout",
     "output_type": "stream",
     "text": [
      "90% confidence intervals:\n",
      "                   0            1\n",
      "const   -291.257772  -230.687907\n",
      "Carats  3587.360806  3873.393538\n",
      "95% confidence intervals:\n",
      "                   0            1\n",
      "const   -297.287753  -224.657926\n",
      "Carats  3558.885063  3901.869280\n"
     ]
    }
   ],
   "source": [
    "# we need to add a constant to the x variables\n",
    "x = sm.add_constant(x)\n",
    "\n",
    "# perform the OLS regression\n",
    "model = sm.OLS(y, x)\n",
    "results = model.fit()\n",
    "\n",
    "# Get the confidence intervals\n",
    "confidence_intervals = results.conf_int(alpha=0.10) # for 90% confidence interval\n",
    "print('90% confidence intervals:\\n', confidence_intervals)\n",
    "\n",
    "confidence_intervals = results.conf_int(alpha=0.05) # for 95% confidence interval\n",
    "print('95% confidence intervals:\\n', confidence_intervals)"
   ]
  },
  {
   "cell_type": "markdown",
   "metadata": {},
   "source": [
    "**Answer**\n",
    "pyhton output differs from excel but I am using excel\n",
    "\n",
    "\n",
    "|    |Lower bound | Upper bound|\n",
    "|----|-------------|---------------|\n",
    "90% CI| 3619.60 | 3841.15 |\n",
    "95% CI| 3587.36 | 3873.39 |"
   ]
  },
  {
   "cell_type": "markdown",
   "metadata": {},
   "source": [
    "#### (g)\t(3 points) \n",
    "**Assuming a future diamond's price ($Y$) is independent of the observed diamond prices ($Y_i$’s), obtain a 90% prediction interval of the price of a diamond that is 0.6 carats in size, based on the given dataset.**"
   ]
  },
  {
   "cell_type": "code",
   "execution_count": 16,
   "metadata": {},
   "outputs": [
    {
     "name": "stdout",
     "output_type": "stream",
     "text": [
      "90% prediction interval for a 0.6 carat diamond:\n",
      "    mean_ci_lower  mean_ci_upper\n",
      "0     1920.07523    2034.431698\n"
     ]
    }
   ],
   "source": [
    "x = sm.add_constant(x)\n",
    "\n",
    "# Fit the OLS model\n",
    "model = sm.OLS(y, x)\n",
    "results = model.fit()\n",
    "\n",
    "# Create new observation\n",
    "new_observation = pd.DataFrame({'const': 1, 'Carats': [0.6]}, index=[0])\n",
    "\n",
    "# Get prediction results\n",
    "prediction_results = results.get_prediction(new_observation)\n",
    "\n",
    "# Get prediction summary frame\n",
    "prediction_summary_frame = prediction_results.summary_frame(alpha=0.10) # 90% confidence\n",
    "\n",
    "print('90% prediction interval for a 0.6 carat diamond:\\n', prediction_summary_frame[['mean_ci_lower', 'mean_ci_upper']])\n"
   ]
  },
  {
   "cell_type": "markdown",
   "metadata": {},
   "source": [
    "**Answer**\n",
    "Python output differs from excel but excel is going to be used\n",
    "\n",
    "|    |Lower bound | Upper bound|\n",
    "|----|-------------|---------------|\n",
    "90% PI| 1897.45 | 2057.06 |"
   ]
  },
  {
   "cell_type": "markdown",
   "metadata": {},
   "source": [
    "#### (h)\t(10 points) \n",
    "**Using the Excel example file used during class, re-solve problems (c) through (g) and submit the solved Excel workbook on Canvas**"
   ]
  }
 ],
 "metadata": {
  "kernelspec": {
   "display_name": "Python 3 (ipykernel)",
   "language": "python",
   "name": "python3"
  },
  "language_info": {
   "codemirror_mode": {
    "name": "ipython",
    "version": 3
   },
   "file_extension": ".py",
   "mimetype": "text/x-python",
   "name": "python",
   "nbconvert_exporter": "python",
   "pygments_lexer": "ipython3",
   "version": "3.11.4"
  }
 },
 "nbformat": 4,
 "nbformat_minor": 4
}
