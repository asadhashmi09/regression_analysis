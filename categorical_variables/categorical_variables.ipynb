{
 "cells": [
  {
   "cell_type": "markdown",
   "metadata": {},
   "source": [
    "<h1><center>Lab Assignment 5</center></h1>\n",
    "\n",
    "<center> DUE: <font color = 'blue'> Monday, November 7th by 3:00 PM (EST)</font> via Canvas </center>\n",
    "\n",
    "Please submit:\n",
    "\n",
    "1) a PDF with all code in-line, generated from Jupytor Notebook\n",
    "  - If there is an error when you generate pdf, please refer this.\n",
    "  [4 ways to export Jupyter Notebook as PDF](https://mljar.com/blog/jupyter-notebook-pdf/#:~:text=The%20Jupyter%20Notebook%20has%20an,not%20visible%20in%20the%20screenshot))\n",
    "  - <font color = red>If you submit your result as ipynb extension, you will deduct points.</font>"
   ]
  },
  {
   "cell_type": "markdown",
   "metadata": {},
   "source": [
    "<h3><center>Asad Hashmi</center></h3>"
   ]
  },
  {
   "cell_type": "markdown",
   "metadata": {},
   "source": [
    "**Round your answers to two decimal places, and include all code and figures.**"
   ]
  },
  {
   "cell_type": "markdown",
   "metadata": {},
   "source": [
    "### Problem Description\n",
    "You and your housemates decide to have a competition: who can grow the tallest plant in your backyard. First, you collect some data on plant height in inches ($y$) and how many hours of sunlight that plant gets in a day ($x_1$). \n",
    "\n",
    "You then notice that while you are using fertilizer A for your plants, one of your housemates decides to invest in fertilizer B, and you begin to wonder which fertilizer you should be using. Luckily, you are taking IOE 366 and can use your knowledge of categorical variables to find out how much better one fertilizer is than the other (use the dataset `lab5_data_categorical1.csv`)."
   ]
  },
  {
   "cell_type": "code",
   "execution_count": 7,
   "metadata": {},
   "outputs": [],
   "source": [
    "import numpy as np                    #to use matrix operations\n",
    "import pandas as pd                   #to handle data\n",
    "import matplotlib.pyplot as plt       #to draw plot\n",
    "import statsmodels.api as sm          #to use statistical model\n",
    "import statsmodels.formula.api as smf #to use statistical model"
   ]
  },
  {
   "cell_type": "markdown",
   "metadata": {},
   "source": [
    "### Data loading"
   ]
  },
  {
   "cell_type": "code",
   "execution_count": 8,
   "metadata": {},
   "outputs": [
    {
     "data": {
      "text/html": [
       "<div>\n",
       "<style scoped>\n",
       "    .dataframe tbody tr th:only-of-type {\n",
       "        vertical-align: middle;\n",
       "    }\n",
       "\n",
       "    .dataframe tbody tr th {\n",
       "        vertical-align: top;\n",
       "    }\n",
       "\n",
       "    .dataframe thead th {\n",
       "        text-align: right;\n",
       "    }\n",
       "</style>\n",
       "<table border=\"1\" class=\"dataframe\">\n",
       "  <thead>\n",
       "    <tr style=\"text-align: right;\">\n",
       "      <th></th>\n",
       "      <th>Fertilizer</th>\n",
       "      <th>x1</th>\n",
       "      <th>y</th>\n",
       "      <th>x2</th>\n",
       "    </tr>\n",
       "  </thead>\n",
       "  <tbody>\n",
       "    <tr>\n",
       "      <th>0</th>\n",
       "      <td>A</td>\n",
       "      <td>2.110221</td>\n",
       "      <td>10.368053</td>\n",
       "      <td>0</td>\n",
       "    </tr>\n",
       "    <tr>\n",
       "      <th>1</th>\n",
       "      <td>A</td>\n",
       "      <td>2.248655</td>\n",
       "      <td>10.608384</td>\n",
       "      <td>0</td>\n",
       "    </tr>\n",
       "    <tr>\n",
       "      <th>2</th>\n",
       "      <td>A</td>\n",
       "      <td>2.185685</td>\n",
       "      <td>11.271274</td>\n",
       "      <td>0</td>\n",
       "    </tr>\n",
       "    <tr>\n",
       "      <th>3</th>\n",
       "      <td>A</td>\n",
       "      <td>1.100134</td>\n",
       "      <td>8.980882</td>\n",
       "      <td>0</td>\n",
       "    </tr>\n",
       "    <tr>\n",
       "      <th>4</th>\n",
       "      <td>A</td>\n",
       "      <td>5.810538</td>\n",
       "      <td>16.470180</td>\n",
       "      <td>0</td>\n",
       "    </tr>\n",
       "  </tbody>\n",
       "</table>\n",
       "</div>"
      ],
      "text/plain": [
       "  Fertilizer        x1          y  x2\n",
       "0          A  2.110221  10.368053   0\n",
       "1          A  2.248655  10.608384   0\n",
       "2          A  2.185685  11.271274   0\n",
       "3          A  1.100134   8.980882   0\n",
       "4          A  5.810538  16.470180   0"
      ]
     },
     "execution_count": 8,
     "metadata": {},
     "output_type": "execute_result"
    }
   ],
   "source": [
    "# read in file\n",
    "df = pd.read_csv(\"lab5_data_categorical1.csv\")\n",
    "df.head()"
   ]
  },
  {
   "cell_type": "markdown",
   "metadata": {},
   "source": [
    "Note that Fertilizer A is our baseline, since $x_2 = 0$ for Fertilizer A."
   ]
  },
  {
   "cell_type": "markdown",
   "metadata": {},
   "source": [
    "### (a) (4 points)"
   ]
  },
  {
   "cell_type": "markdown",
   "metadata": {},
   "source": [
    "1. **Construct a scatter plot of plant height ($y$) versus hours of sunlight ($x_1$) that demonstrates the difference between using fertilizer A and B. Please use different colors for fertilizers. Use different colors for fertilizers.**"
   ]
  },
  {
   "cell_type": "code",
   "execution_count": 9,
   "metadata": {},
   "outputs": [
    {
     "data": {
      "image/png": "[encoded data removed]",
      "text/plain": [
       "<Figure size 640x480 with 1 Axes>"
      ]
     },
     "metadata": {},
     "output_type": "display_data"
    }
   ],
   "source": [
    "plt.plot(df[df['x2'] == 0]['x1'],df[df['x2'] == 0]['y'],'yo',label = 'Fertilizer A') \n",
    "plt.plot(df[df['x2'] == 1]['x1'],df[df['x2'] == 1]['y'],'bo',label = 'Fertilizer B') \n",
    "plt.title('Fertilizer Effect on Yield')\n",
    "plt.xlabel('Amount of Fertilizer')\n",
    "plt.ylabel('Yield')    \n",
    "plt.legend()\n",
    "plt.show()"
   ]
  },
  {
   "cell_type": "markdown",
   "metadata": {},
   "source": [
    "2. **For further analysis, should you use the regression model for same slopes or different slopes?**"
   ]
  },
  {
   "cell_type": "markdown",
   "metadata": {},
   "source": [
    "**Answer**\n",
    "\n",
    "We can use the same slopes"
   ]
  },
  {
   "cell_type": "markdown",
   "metadata": {},
   "source": [
    "3. **State the model equation that you will use.**"
   ]
  },
  {
   "cell_type": "markdown",
   "metadata": {},
   "source": [
    "**Answer**\n",
    "\n",
    "The regression equation is given as follows:\n",
    "\n",
    "$$\n",
    "y = \\beta_0 + \\beta_1x_1 + \\beta_2 x_2 + \\epsilon\n",
    "$$\n",
    "Since $x_2$ takes on values 0 or 1, we can decompose this equation into a system of two equations:\n",
    "\n",
    "if $x_2 = 0$, that is 'Fertilizer A':\n",
    "$$\n",
    "y = \\beta_0 + \\beta_1 x_1 + \\epsilon\n",
    "$$\n",
    "if $x_2 = 1$, that is 'Fertilizer B':\n",
    "$$\n",
    "y = \\beta_0 + \\beta_1 x_1 + \\beta_2 + \\epsilon = (\\beta_0 + \\beta_2) + \\beta_1 x_1 + \\epsilon\n",
    "$$\n",
    "We can see that the two lines differ only by a constant; we can view this as an adjusted intercept term. The baseline level will have no extra intercept term.\n",
    "\n",
    "The geometric interpretation of categorical regression is then: we are fitting separate, *parallel* lines (or planes, or hyperplanes) for each category. "
   ]
  },
  {
   "cell_type": "markdown",
   "metadata": {},
   "source": [
    "### (b) (6 points)"
   ]
  },
  {
   "cell_type": "markdown",
   "metadata": {},
   "source": [
    "1. **Using Python, fit a regression model to this data, using an indicator variable $x_2$.**"
   ]
  },
  {
   "cell_type": "code",
   "execution_count": 14,
   "metadata": {},
   "outputs": [
    {
     "data": {
      "image/png": "[encoded data removed]",
      "text/plain": [
       "<Figure size 640x480 with 1 Axes>"
      ]
     },
     "metadata": {},
     "output_type": "display_data"
    }
   ],
   "source": [
    "\n",
    "One_Hot_model = smf.ols(formula=\"y ~ x1 + x2\", data=df).fit()\n",
    "\n",
    "plt.plot(df[df['x2'] == 0]['x1'],df[df['x2'] == 0]['y'],'yo',label = 'Fertilizer A') \n",
    "plt.plot(df[df['x2'] == 0]['x1'],One_Hot_model.predict(df[df['x2'] == 0]),'y-') \n",
    "\n",
    "plt.plot(df[df['x2'] == 1]['x1'],df[df['x2'] == 1]['y'],'bo',label = 'Fertilizer B')  \n",
    "plt.plot(df[df['x2'] == 1]['x1'],One_Hot_model.predict(df[df['x2'] == 1]),'b-')\n",
    "\n",
    "plt.legend()\n",
    "plt.show()"
   ]
  },
  {
   "cell_type": "code",
   "execution_count": 9,
   "metadata": {},
   "outputs": [
    {
     "data": {
      "text/html": [
       "<table class=\"simpletable\">\n",
       "<caption>OLS Regression Results</caption>\n",
       "<tr>\n",
       "  <th>Dep. Variable:</th>            <td>y</td>        <th>  R-squared:         </th> <td>   0.962</td>\n",
       "</tr>\n",
       "<tr>\n",
       "  <th>Model:</th>                   <td>OLS</td>       <th>  Adj. R-squared:    </th> <td>   0.957</td>\n",
       "</tr>\n",
       "<tr>\n",
       "  <th>Method:</th>             <td>Least Squares</td>  <th>  F-statistic:       </th> <td>   214.4</td>\n",
       "</tr>\n",
       "<tr>\n",
       "  <th>Date:</th>             <td>Mon, 06 Nov 2023</td> <th>  Prob (F-statistic):</th> <td>8.75e-13</td>\n",
       "</tr>\n",
       "<tr>\n",
       "  <th>Time:</th>                 <td>00:35:28</td>     <th>  Log-Likelihood:    </th> <td> -23.118</td>\n",
       "</tr>\n",
       "<tr>\n",
       "  <th>No. Observations:</th>      <td>    20</td>      <th>  AIC:               </th> <td>   52.24</td>\n",
       "</tr>\n",
       "<tr>\n",
       "  <th>Df Residuals:</th>          <td>    17</td>      <th>  BIC:               </th> <td>   55.22</td>\n",
       "</tr>\n",
       "<tr>\n",
       "  <th>Df Model:</th>              <td>     2</td>      <th>                     </th>     <td> </td>   \n",
       "</tr>\n",
       "<tr>\n",
       "  <th>Covariance Type:</th>      <td>nonrobust</td>    <th>                     </th>     <td> </td>   \n",
       "</tr>\n",
       "</table>\n",
       "<table class=\"simpletable\">\n",
       "<tr>\n",
       "      <td></td>         <th>coef</th>     <th>std err</th>      <th>t</th>      <th>P>|t|</th>  <th>[0.025</th>    <th>0.975]</th>  \n",
       "</tr>\n",
       "<tr>\n",
       "  <th>Intercept</th> <td>    7.9882</td> <td>    0.449</td> <td>   17.782</td> <td> 0.000</td> <td>    7.040</td> <td>    8.936</td>\n",
       "</tr>\n",
       "<tr>\n",
       "  <th>x1</th>        <td>    1.4393</td> <td>    0.112</td> <td>   12.833</td> <td> 0.000</td> <td>    1.203</td> <td>    1.676</td>\n",
       "</tr>\n",
       "<tr>\n",
       "  <th>x2</th>        <td>    7.1143</td> <td>    0.382</td> <td>   18.631</td> <td> 0.000</td> <td>    6.309</td> <td>    7.920</td>\n",
       "</tr>\n",
       "</table>\n",
       "<table class=\"simpletable\">\n",
       "<tr>\n",
       "  <th>Omnibus:</th>       <td> 0.430</td> <th>  Durbin-Watson:     </th> <td>   1.853</td>\n",
       "</tr>\n",
       "<tr>\n",
       "  <th>Prob(Omnibus):</th> <td> 0.806</td> <th>  Jarque-Bera (JB):  </th> <td>   0.541</td>\n",
       "</tr>\n",
       "<tr>\n",
       "  <th>Skew:</th>          <td>-0.102</td> <th>  Prob(JB):          </th> <td>   0.763</td>\n",
       "</tr>\n",
       "<tr>\n",
       "  <th>Kurtosis:</th>      <td> 2.220</td> <th>  Cond. No.          </th> <td>    9.91</td>\n",
       "</tr>\n",
       "</table><br/><br/>Notes:<br/>[1] Standard Errors assume that the covariance matrix of the errors is correctly specified."
      ],
      "text/latex": [
       "\\begin{center}\n",
       "\\begin{tabular}{lclc}\n",
       "\\toprule\n",
       "\\textbf{Dep. Variable:}    &        y         & \\textbf{  R-squared:         } &     0.962   \\\\\n",
       "\\textbf{Model:}            &       OLS        & \\textbf{  Adj. R-squared:    } &     0.957   \\\\\n",
       "\\textbf{Method:}           &  Least Squares   & \\textbf{  F-statistic:       } &     214.4   \\\\\n",
       "\\textbf{Date:}             & Mon, 06 Nov 2023 & \\textbf{  Prob (F-statistic):} &  8.75e-13   \\\\\n",
       "\\textbf{Time:}             &     00:35:28     & \\textbf{  Log-Likelihood:    } &   -23.118   \\\\\n",
       "\\textbf{No. Observations:} &          20      & \\textbf{  AIC:               } &     52.24   \\\\\n",
       "\\textbf{Df Residuals:}     &          17      & \\textbf{  BIC:               } &     55.22   \\\\\n",
       "\\textbf{Df Model:}         &           2      & \\textbf{                     } &             \\\\\n",
       "\\textbf{Covariance Type:}  &    nonrobust     & \\textbf{                     } &             \\\\\n",
       "\\bottomrule\n",
       "\\end{tabular}\n",
       "\\begin{tabular}{lcccccc}\n",
       "                   & \\textbf{coef} & \\textbf{std err} & \\textbf{t} & \\textbf{P$> |$t$|$} & \\textbf{[0.025} & \\textbf{0.975]}  \\\\\n",
       "\\midrule\n",
       "\\textbf{Intercept} &       7.9882  &        0.449     &    17.782  &         0.000        &        7.040    &        8.936     \\\\\n",
       "\\textbf{x1}        &       1.4393  &        0.112     &    12.833  &         0.000        &        1.203    &        1.676     \\\\\n",
       "\\textbf{x2}        &       7.1143  &        0.382     &    18.631  &         0.000        &        6.309    &        7.920     \\\\\n",
       "\\bottomrule\n",
       "\\end{tabular}\n",
       "\\begin{tabular}{lclc}\n",
       "\\textbf{Omnibus:}       &  0.430 & \\textbf{  Durbin-Watson:     } &    1.853  \\\\\n",
       "\\textbf{Prob(Omnibus):} &  0.806 & \\textbf{  Jarque-Bera (JB):  } &    0.541  \\\\\n",
       "\\textbf{Skew:}          & -0.102 & \\textbf{  Prob(JB):          } &    0.763  \\\\\n",
       "\\textbf{Kurtosis:}      &  2.220 & \\textbf{  Cond. No.          } &     9.91  \\\\\n",
       "\\bottomrule\n",
       "\\end{tabular}\n",
       "%\\caption{OLS Regression Results}\n",
       "\\end{center}\n",
       "\n",
       "Notes: \\newline\n",
       " [1] Standard Errors assume that the covariance matrix of the errors is correctly specified."
      ],
      "text/plain": [
       "<class 'statsmodels.iolib.summary.Summary'>\n",
       "\"\"\"\n",
       "                            OLS Regression Results                            \n",
       "==============================================================================\n",
       "Dep. Variable:                      y   R-squared:                       0.962\n",
       "Model:                            OLS   Adj. R-squared:                  0.957\n",
       "Method:                 Least Squares   F-statistic:                     214.4\n",
       "Date:                Mon, 06 Nov 2023   Prob (F-statistic):           8.75e-13\n",
       "Time:                        00:35:28   Log-Likelihood:                -23.118\n",
       "No. Observations:                  20   AIC:                             52.24\n",
       "Df Residuals:                      17   BIC:                             55.22\n",
       "Df Model:                           2                                         \n",
       "Covariance Type:            nonrobust                                         \n",
       "==============================================================================\n",
       "                 coef    std err          t      P>|t|      [0.025      0.975]\n",
       "------------------------------------------------------------------------------\n",
       "Intercept      7.9882      0.449     17.782      0.000       7.040       8.936\n",
       "x1             1.4393      0.112     12.833      0.000       1.203       1.676\n",
       "x2             7.1143      0.382     18.631      0.000       6.309       7.920\n",
       "==============================================================================\n",
       "Omnibus:                        0.430   Durbin-Watson:                   1.853\n",
       "Prob(Omnibus):                  0.806   Jarque-Bera (JB):                0.541\n",
       "Skew:                          -0.102   Prob(JB):                        0.763\n",
       "Kurtosis:                       2.220   Cond. No.                         9.91\n",
       "==============================================================================\n",
       "\n",
       "Notes:\n",
       "[1] Standard Errors assume that the covariance matrix of the errors is correctly specified.\n",
       "\"\"\""
      ]
     },
     "execution_count": 9,
     "metadata": {},
     "output_type": "execute_result"
    }
   ],
   "source": [
    "One_Hot_model = smf.ols(\n",
    "        formula = 'y ~ x1 + x2',data=df).fit() \n",
    "One_Hot_model.summary()"
   ]
  },
  {
   "cell_type": "markdown",
   "metadata": {},
   "source": [
    "2. **Report your intercept and slope parameters for each fertilizer, both in terms of the parameters ($\\beta_j$’s) and as values.**"
   ]
  },
  {
   "cell_type": "markdown",
   "metadata": {},
   "source": [
    "if $x_2 = 0$, that is 'Fertilizer A':\n",
    "$$\n",
    "y = 7.9882 + 1.4393x\t \n",
    "$$\n",
    "if $x_2 = 1$, that is 'Fertilizer B':\n",
    "$$\n",
    "y = \\beta_0 + \\beta_1 x_1 + \\beta_2 + \\epsilon = 15.1025 + 1.4393x \n",
    "$$"
   ]
  },
  {
   "cell_type": "markdown",
   "metadata": {},
   "source": [
    "3. **Is there a difference between the fertilizers?**"
   ]
  },
  {
   "cell_type": "markdown",
   "metadata": {},
   "source": [
    "**Answer**\n",
    "\n",
    "Yes, fertilizer B will have a higher starting position but the rate of change will be the same."
   ]
  },
  {
   "cell_type": "markdown",
   "metadata": {},
   "source": [
    "4. **What does this imply? Explain the difference in words.**"
   ]
  },
  {
   "cell_type": "markdown",
   "metadata": {},
   "source": [
    "**Answer**\n",
    "\n",
    "The implication of this is that fertilizer B will help get a higher y value innitially but the rate of change between the two fertilizers is the same. B will always be 7.1143 inches bigger than A.\n"
   ]
  },
  {
   "cell_type": "markdown",
   "metadata": {},
   "source": [
    "----\n"
   ]
  },
  {
   "cell_type": "markdown",
   "metadata": {},
   "source": [
    "You go to the store to buy some more fertilizer for your plants. You are scanning the aisles, looking for fertilizers A and B, when you come across fertilizer C. You decide to purchase all three to continue your experiment (now, use the dataset `lab5_data_ categorical2.csv`)."
   ]
  },
  {
   "cell_type": "code",
   "execution_count": 10,
   "metadata": {},
   "outputs": [
    {
     "data": {
      "text/html": [
       "<div>\n",
       "<style scoped>\n",
       "    .dataframe tbody tr th:only-of-type {\n",
       "        vertical-align: middle;\n",
       "    }\n",
       "\n",
       "    .dataframe tbody tr th {\n",
       "        vertical-align: top;\n",
       "    }\n",
       "\n",
       "    .dataframe thead th {\n",
       "        text-align: right;\n",
       "    }\n",
       "</style>\n",
       "<table border=\"1\" class=\"dataframe\">\n",
       "  <thead>\n",
       "    <tr style=\"text-align: right;\">\n",
       "      <th></th>\n",
       "      <th>Fertilizer</th>\n",
       "      <th>x1</th>\n",
       "      <th>y</th>\n",
       "      <th>x2</th>\n",
       "      <th>x3</th>\n",
       "    </tr>\n",
       "  </thead>\n",
       "  <tbody>\n",
       "    <tr>\n",
       "      <th>0</th>\n",
       "      <td>A</td>\n",
       "      <td>2.110221</td>\n",
       "      <td>10.368053</td>\n",
       "      <td>0</td>\n",
       "      <td>0</td>\n",
       "    </tr>\n",
       "    <tr>\n",
       "      <th>1</th>\n",
       "      <td>A</td>\n",
       "      <td>2.248655</td>\n",
       "      <td>10.608384</td>\n",
       "      <td>0</td>\n",
       "      <td>0</td>\n",
       "    </tr>\n",
       "    <tr>\n",
       "      <th>2</th>\n",
       "      <td>A</td>\n",
       "      <td>2.185685</td>\n",
       "      <td>11.271274</td>\n",
       "      <td>0</td>\n",
       "      <td>0</td>\n",
       "    </tr>\n",
       "    <tr>\n",
       "      <th>3</th>\n",
       "      <td>A</td>\n",
       "      <td>1.100134</td>\n",
       "      <td>8.980882</td>\n",
       "      <td>0</td>\n",
       "      <td>0</td>\n",
       "    </tr>\n",
       "    <tr>\n",
       "      <th>4</th>\n",
       "      <td>A</td>\n",
       "      <td>5.810538</td>\n",
       "      <td>16.470180</td>\n",
       "      <td>0</td>\n",
       "      <td>0</td>\n",
       "    </tr>\n",
       "  </tbody>\n",
       "</table>\n",
       "</div>"
      ],
      "text/plain": [
       "  Fertilizer        x1          y  x2  x3\n",
       "0          A  2.110221  10.368053   0   0\n",
       "1          A  2.248655  10.608384   0   0\n",
       "2          A  2.185685  11.271274   0   0\n",
       "3          A  1.100134   8.980882   0   0\n",
       "4          A  5.810538  16.470180   0   0"
      ]
     },
     "execution_count": 10,
     "metadata": {},
     "output_type": "execute_result"
    }
   ],
   "source": [
    "# read in file\n",
    "df2 = pd.read_csv(\"lab5_data_categorical2.csv\")\n",
    "df2.head()"
   ]
  },
  {
   "cell_type": "markdown",
   "metadata": {},
   "source": [
    "### (c) (4 points)"
   ]
  },
  {
   "cell_type": "code",
   "execution_count": 11,
   "metadata": {},
   "outputs": [
    {
     "data": {
      "text/html": [
       "<div>\n",
       "<style scoped>\n",
       "    .dataframe tbody tr th:only-of-type {\n",
       "        vertical-align: middle;\n",
       "    }\n",
       "\n",
       "    .dataframe tbody tr th {\n",
       "        vertical-align: top;\n",
       "    }\n",
       "\n",
       "    .dataframe thead th {\n",
       "        text-align: right;\n",
       "    }\n",
       "</style>\n",
       "<table border=\"1\" class=\"dataframe\">\n",
       "  <thead>\n",
       "    <tr style=\"text-align: right;\">\n",
       "      <th></th>\n",
       "      <th>x1</th>\n",
       "      <th>y</th>\n",
       "      <th>x2</th>\n",
       "      <th>x3</th>\n",
       "      <th>Fertilizer_A</th>\n",
       "      <th>Fertilizer_B</th>\n",
       "      <th>Fertilizer_C</th>\n",
       "    </tr>\n",
       "  </thead>\n",
       "  <tbody>\n",
       "    <tr>\n",
       "      <th>0</th>\n",
       "      <td>2.110221</td>\n",
       "      <td>10.368053</td>\n",
       "      <td>0</td>\n",
       "      <td>0</td>\n",
       "      <td>1</td>\n",
       "      <td>0</td>\n",
       "      <td>0</td>\n",
       "    </tr>\n",
       "    <tr>\n",
       "      <th>1</th>\n",
       "      <td>2.248655</td>\n",
       "      <td>10.608384</td>\n",
       "      <td>0</td>\n",
       "      <td>0</td>\n",
       "      <td>1</td>\n",
       "      <td>0</td>\n",
       "      <td>0</td>\n",
       "    </tr>\n",
       "    <tr>\n",
       "      <th>2</th>\n",
       "      <td>2.185685</td>\n",
       "      <td>11.271274</td>\n",
       "      <td>0</td>\n",
       "      <td>0</td>\n",
       "      <td>1</td>\n",
       "      <td>0</td>\n",
       "      <td>0</td>\n",
       "    </tr>\n",
       "    <tr>\n",
       "      <th>3</th>\n",
       "      <td>1.100134</td>\n",
       "      <td>8.980882</td>\n",
       "      <td>0</td>\n",
       "      <td>0</td>\n",
       "      <td>1</td>\n",
       "      <td>0</td>\n",
       "      <td>0</td>\n",
       "    </tr>\n",
       "    <tr>\n",
       "      <th>4</th>\n",
       "      <td>5.810538</td>\n",
       "      <td>16.470180</td>\n",
       "      <td>0</td>\n",
       "      <td>0</td>\n",
       "      <td>1</td>\n",
       "      <td>0</td>\n",
       "      <td>0</td>\n",
       "    </tr>\n",
       "  </tbody>\n",
       "</table>\n",
       "</div>"
      ],
      "text/plain": [
       "         x1          y  x2  x3  Fertilizer_A  Fertilizer_B  Fertilizer_C\n",
       "0  2.110221  10.368053   0   0             1             0             0\n",
       "1  2.248655  10.608384   0   0             1             0             0\n",
       "2  2.185685  11.271274   0   0             1             0             0\n",
       "3  1.100134   8.980882   0   0             1             0             0\n",
       "4  5.810538  16.470180   0   0             1             0             0"
      ]
     },
     "execution_count": 11,
     "metadata": {},
     "output_type": "execute_result"
    }
   ],
   "source": [
    "df_dummies = pd.get_dummies(df2, columns=['Fertilizer'])\n",
    "df_dummies.head()"
   ]
  },
  {
   "cell_type": "markdown",
   "metadata": {},
   "source": [
    "1. **What value does each of your indicator variables take for each fertilizer type? (Fill in the table below based on the data file.)**"
   ]
  },
  {
   "cell_type": "markdown",
   "metadata": {},
   "source": [
    "\n",
    "Fertilizer A: $x_2 = 0$, $x_3 = 0$\n",
    "Fertilizer B: $x_2 = 1$, $x_3 = 0$\n",
    "Fertilizer X: $x_2 = 0$, $x_2 = 1$"
   ]
  },
  {
   "cell_type": "markdown",
   "metadata": {},
   "source": [
    "2. **Construct a scatter plot of plant height ($y$) versus hours of sunlight ($x_1$) that demonstrates the difference between using fertilizer A, B and C.Use different colors for fertilizers.**"
   ]
  },
  {
   "cell_type": "code",
   "execution_count": 12,
   "metadata": {},
   "outputs": [
    {
     "data": {
      "image/png": "[encoded data removed]",
      "text/plain": [
       "<Figure size 640x480 with 1 Axes>"
      ]
     },
     "metadata": {},
     "output_type": "display_data"
    }
   ],
   "source": [
    "plt.scatter(df_dummies[df_dummies['Fertilizer_A'] == 1]['x1'], \n",
    "            df_dummies[df_dummies['Fertilizer_A'] == 1]['y'],\n",
    "            color='y', label='Fertilizer A')\n",
    "plt.scatter(df_dummies[df_dummies['Fertilizer_B'] == 1]['x1'], \n",
    "            df_dummies[df_dummies['Fertilizer_B'] == 1]['y'], \n",
    "            color='b', label='Fertilizer B')\n",
    "plt.scatter(df_dummies[df_dummies['Fertilizer_C'] == 1]['x1'],\n",
    "            df_dummies[df_dummies['Fertilizer_C'] == 1]['y'], color='r',\n",
    "            label='Fertilizer C')\n",
    "\n",
    "plt.xlabel('Hours of Sunlight')\n",
    "plt.ylabel('Plant Height')\n",
    "\n",
    "plt.legend()\n",
    "plt.show()"
   ]
  },
  {
   "cell_type": "markdown",
   "metadata": {},
   "source": [
    "3. **For further analysis, should you use the regression model for same slopes or different slopes?**"
   ]
  },
  {
   "cell_type": "markdown",
   "metadata": {},
   "source": [
    "**Answer**\n",
    "\n",
    "We will have to use different slopes because the slope seems to be different"
   ]
  },
  {
   "cell_type": "markdown",
   "metadata": {},
   "source": [
    "4. **State the model equation that you will use.**"
   ]
  },
  {
   "cell_type": "markdown",
   "metadata": {},
   "source": [
    "**Answer**\n",
    "\n",
    "Our regression equation in the model with interaction is:\n",
    "\n",
    "$$\n",
    "𝑦=𝛽0+𝛽1𝑥1+𝛽2𝑥2+𝛽3𝑥1𝑥2+𝛽5𝑥1𝑥2+𝛽5𝑥1𝑥2𝜖\n",
    "$$\n",
    "\n",
    "Again, since $x_2$ & $x_3$ is a binary variable, we can decompose the equation into:\n",
    "\n",
    "if $x_2 = 0$ & $x_3 = 0$, that is 'Fertilizer A':\n",
    "$$\n",
    "y = \\beta_0 + \\beta_1 x_1 + \\epsilon\n",
    "$$\n",
    "if $x_2 = 1$ & $x_3 = 0$, that is 'Fertilizer B':\n",
    "$$\n",
    "𝑦=(𝛽0+𝛽2)+(𝛽1+𝛽4)𝑥1+𝜖\n",
    "$$\n",
    "if $x_2 = 0$ & $x_3 = 1$, that is 'Fertilizer c':\n",
    "$$\n",
    "𝑦=(𝛽0+𝛽3)+(𝛽1+𝛽5)𝑥1+𝜖\n",
    "$$\n",
    "\n",
    "Now, we can see that not only are the intercepts different between the three lines, but the slopes are as well. The geometric interpretation of fitting a model with interaction is still fitting separate lines for each category, but the lines are no longer constrained to be parallel. \n"
   ]
  },
  {
   "cell_type": "markdown",
   "metadata": {},
   "source": [
    "### (d) (3 points)"
   ]
  },
  {
   "cell_type": "markdown",
   "metadata": {},
   "source": [
    "1. **Using Python, fit a regression model to this data using indicator variables.**"
   ]
  },
  {
   "cell_type": "code",
   "execution_count": 13,
   "metadata": {},
   "outputs": [
    {
     "data": {
      "image/png": "[encoded data removed]",
      "text/plain": [
       "<Figure size 640x480 with 1 Axes>"
      ]
     },
     "metadata": {},
     "output_type": "display_data"
    }
   ],
   "source": [
    "# Prepare sub-dataframes for each fertilizer\n",
    "df_A = df_dummies[df_dummies['Fertilizer_A'] == 1]\n",
    "df_B = df_dummies[df_dummies['Fertilizer_B'] == 1]\n",
    "df_C = df_dummies[df_dummies['Fertilizer_C'] == 1]\n",
    "\n",
    "# Fit regression line for Fertilizer A\n",
    "coeffs_A = np.polyfit(df_A['x1'], df_A['y'], 1)\n",
    "plt.plot(df_A['x1'], coeffs_A[0]*df_A['x1'] + coeffs_A[1], color='y')\n",
    "\n",
    "# Fit regression line for Fertilizer B\n",
    "coeffs_B = np.polyfit(df_B['x1'], df_B['y'], 1)\n",
    "plt.plot(df_B['x1'], coeffs_B[0]*df_B['x1'] + coeffs_B[1], color='b')\n",
    "\n",
    "# Fit regression line for Fertilizer C\n",
    "coeffs_C = np.polyfit(df_C['x1'], df_C['y'], 1)\n",
    "plt.plot(df_C['x1'], coeffs_C[0]*df_C['x1'] + coeffs_C[1], color='r')\n",
    "\n",
    "# Now plot the scatter points as before\n",
    "plt.scatter(df_A['x1'], df_A['y'], color='y', label='Fertilizer A')\n",
    "plt.scatter(df_B['x1'], df_B['y'], color='b', label='Fertilizer B')\n",
    "plt.scatter(df_C['x1'], df_C['y'], color='r', label='Fertilizer C')\n",
    "\n",
    "plt.xlabel('Hours of Sunlight')\n",
    "plt.ylabel('Plant Height')\n",
    "\n",
    "plt.legend()\n",
    "plt.show()"
   ]
  },
  {
   "cell_type": "markdown",
   "metadata": {},
   "source": [
    "2. **Report your intercept and slope values for each fertilizer, both in terms of $\\beta_j$'s and as values.**"
   ]
  },
  {
   "cell_type": "code",
   "execution_count": 14,
   "metadata": {},
   "outputs": [
    {
     "name": "stdout",
     "output_type": "stream",
     "text": [
      "Fertilizer A:\n",
      "Slope (β1): 1.6937554025029005\n",
      "Intercept (β0): 7.163059507552046\n",
      "\n",
      "Fertilizer B:\n",
      "Slope (β1+β3 for x2=1): 1.3139161675310016\n",
      "Intercept (β0+β2 for x2=1): 15.417136505145654\n",
      "\n",
      "Fertilizer C:\n",
      "Slope (β1+β5 for x2=2): 3.229219098859112\n",
      "Intercept (β0+β4 for x2=2): 8.992199618295581\n"
     ]
    }
   ],
   "source": [
    "# Fit regression line and print coefficients for Fertilizer A\n",
    "coeffs_A = np.polyfit(df_A['x1'], df_A['y'], 1)\n",
    "print(\"Fertilizer A:\")\n",
    "print(f\"Slope (β1): {coeffs_A[0]}\")\n",
    "print(f\"Intercept (β0): {coeffs_A[1]}\")\n",
    "\n",
    "# Fit regression line and print coefficients for Fertilizer B\n",
    "coeffs_B = np.polyfit(df_B['x1'], df_B['y'], 1)\n",
    "print(\"\\nFertilizer B:\")\n",
    "print(f\"Slope (β1+β3 for x2=1): {coeffs_B[0]}\")\n",
    "print(f\"Intercept (β0+β2 for x2=1): {coeffs_B[1]}\") \n",
    "\n",
    "# Fit regression line and print coefficients for Fertilizer C\n",
    "coeffs_C = np.polyfit(df_C['x1'], df_C['y'], 1)\n",
    "print(\"\\nFertilizer C:\")\n",
    "print(f\"Slope (β1+β5 for x2=2): {coeffs_C[0]}\")\n",
    "print(f\"Intercept (β0+β4 for x2=2): {coeffs_C[1]}\")"
   ]
  },
  {
   "cell_type": "markdown",
   "metadata": {},
   "source": [
    "**Answer**\n",
    "\n",
    "Fertilizer A:\n",
    "Slope (β1): 1.6938\n",
    "Intercept (β0): 7.1631 \n",
    "\n",
    "Fertilizer B:\n",
    "Slope (β1+β3 for x2=1): 1.3139\n",
    "Intercept (β0+β2 for x2=1): 15.4171\n",
    "\n",
    "Fertilizer C:\n",
    "Slope (β1+β5 for x2=2): 3.2292\n",
    "Intercept (β0+β4 for x2=2): 8.9922"
   ]
  },
  {
   "cell_type": "markdown",
   "metadata": {},
   "source": [
    "### (e) (2 points) \n",
    "\n",
    "In Michigan, we get **2.34** hours of sunlight per day on average. "
   ]
  },
  {
   "cell_type": "markdown",
   "metadata": {},
   "source": [
    "1. **With this knowledge, calculate your expected plant height *for each* fertilizer.**"
   ]
  },
  {
   "cell_type": "markdown",
   "metadata": {},
   "source": [
    "**Answer**\n",
    "\n",
    "Fertilizer A: 1.6938(2.34) + 7.1631 = 11.1266 inches\n",
    "\n",
    "Fertilizer B: 1.3139(2.34) + 15.4171 = 18.4916 inches\n",
    "\n",
    "Fertilizer C: 3.2292(2.34) + 8.9922 = 16.5485 inches"
   ]
  },
  {
   "cell_type": "markdown",
   "metadata": {},
   "source": [
    "2. **Which fertilizer should you use to maximize your plant height?**"
   ]
  },
  {
   "cell_type": "markdown",
   "metadata": {},
   "source": [
    "**Answer**\n",
    "\n",
    "In the long run, I would choose fertilizer B as it has the greatest slope and will eventually overtake the other fertilizers"
   ]
  },
  {
   "cell_type": "markdown",
   "metadata": {},
   "source": [
    "### (f) (2 points) \n",
    "Spring Break is long over, but who says you can’t take another break in the middle of the semester? Suppose that you want to go to Florida (again), and you plan on bringing your plants with you, but you need to decide which fertilizer to bring. In Florida, you will get **6.08** hours of sunlight per day on average. "
   ]
  },
  {
   "cell_type": "markdown",
   "metadata": {},
   "source": [
    "1. **Using your regression models, predict your plant height *for each* fertilizer in this much sunlight.**"
   ]
  },
  {
   "cell_type": "markdown",
   "metadata": {},
   "source": [
    "**Answer**\n",
    "\n",
    "Fertilizer A: 1.6938(6.08) + 7.1631 = 17.4614 inches\n",
    "\n",
    "Fertilizer B: 1.3139(6.08) + 15.4171 = 23.4056 inches\n",
    "\n",
    "Fertilizer C: 3.2292(6.08) + 8.9922 = 28.6257 inches"
   ]
  },
  {
   "cell_type": "markdown",
   "metadata": {},
   "source": [
    "2. **Which fertilizer should you bring to maximize your plant height during your second vacation?**"
   ]
  },
  {
   "cell_type": "markdown",
   "metadata": {},
   "source": [
    "**Answer**\n",
    "\n",
    "Fertilizer C is the best to optimize height."
   ]
  }
 ],
 "metadata": {
  "kernelspec": {
   "display_name": "Python 3 (ipykernel)",
   "language": "python",
   "name": "python3"
  },
  "language_info": {
   "codemirror_mode": {
    "name": "ipython",
    "version": 3
   },
   "file_extension": ".py",
   "mimetype": "text/x-python",
   "name": "python",
   "nbconvert_exporter": "python",
   "pygments_lexer": "ipython3",
   "version": "3.11.4"
  }
 },
 "nbformat": 4,
 "nbformat_minor": 4
}
