{
 "cells": [
  {
   "cell_type": "markdown",
   "metadata": {},
   "source": [
    "<h1><center>Lab Assignment 6</center></h1>\n",
    "\n",
    "<center> DUE: <font color = 'blue'> Tuesday, November 14th by 3:00 PM (EST)</font> via Canvas </center>\n",
    "\n",
    "Please submit:\n",
    "\n",
    "1) a PDF with all code in-line, generated from Jupytor Notebook\n",
    "  - If there is an error when you generate pdf, please refer this.\n",
    "  [4 ways to export Jupyter Notebook as PDF](https://mljar.com/blog/jupyter-notebook-pdf/#:~:text=The%20Jupyter%20Notebook%20has%20an,not%20visible%20in%20the%20screenshot))\n",
    "  - <font color = red>If you submit your result as ipynb extension, you will deduct points.</font>"
   ]
  },
  {
   "cell_type": "markdown",
   "metadata": {},
   "source": [
    "<h3><center>Asad Hashmi</center></h3>"
   ]
  },
  {
   "cell_type": "markdown",
   "metadata": {},
   "source": [
    "**Round your answers to two decimal places, and include all code and figures.**"
   ]
  },
  {
   "cell_type": "markdown",
   "metadata": {},
   "source": [
    "### Problem Description\n",
    "A study was performed to investigate new automobile purchases. A sample of 20 families was selected. Each family was surveyed to determine their total family income ($x_1$) and the age of their oldest vehicle ($x_2$). A follow-up survey was conducted six months later to determine if they had purchased a new vehicle during that time period ($y = 1$ indicates YES and $y = 0$ indicates NO.) Use the dataset `lab6_data.csv`. "
   ]
  },
  {
   "cell_type": "code",
   "execution_count": 2,
   "metadata": {},
   "outputs": [],
   "source": [
    "import numpy as np                    #to use matrix operations\n",
    "import pandas as pd                   #to handle data\n",
    "import matplotlib.pyplot as plt       #to draw plot\n",
    "import statsmodels.api as sm          #to use statistical model\n",
    "import statsmodels.formula.api as smf #to use statistical model"
   ]
  },
  {
   "cell_type": "markdown",
   "metadata": {},
   "source": [
    "### Data loading"
   ]
  },
  {
   "cell_type": "code",
   "execution_count": 3,
   "metadata": {},
   "outputs": [
    {
     "data": {
      "text/html": [
       "<div>\n",
       "<style scoped>\n",
       "    .dataframe tbody tr th:only-of-type {\n",
       "        vertical-align: middle;\n",
       "    }\n",
       "\n",
       "    .dataframe tbody tr th {\n",
       "        vertical-align: top;\n",
       "    }\n",
       "\n",
       "    .dataframe thead th {\n",
       "        text-align: right;\n",
       "    }\n",
       "</style>\n",
       "<table border=\"1\" class=\"dataframe\">\n",
       "  <thead>\n",
       "    <tr style=\"text-align: right;\">\n",
       "      <th></th>\n",
       "      <th>x1</th>\n",
       "      <th>x2</th>\n",
       "      <th>y</th>\n",
       "    </tr>\n",
       "  </thead>\n",
       "  <tbody>\n",
       "    <tr>\n",
       "      <th>0</th>\n",
       "      <td>45000</td>\n",
       "      <td>2</td>\n",
       "      <td>0</td>\n",
       "    </tr>\n",
       "    <tr>\n",
       "      <th>1</th>\n",
       "      <td>40000</td>\n",
       "      <td>4</td>\n",
       "      <td>0</td>\n",
       "    </tr>\n",
       "    <tr>\n",
       "      <th>2</th>\n",
       "      <td>60000</td>\n",
       "      <td>3</td>\n",
       "      <td>1</td>\n",
       "    </tr>\n",
       "    <tr>\n",
       "      <th>3</th>\n",
       "      <td>50000</td>\n",
       "      <td>2</td>\n",
       "      <td>1</td>\n",
       "    </tr>\n",
       "    <tr>\n",
       "      <th>4</th>\n",
       "      <td>55000</td>\n",
       "      <td>2</td>\n",
       "      <td>0</td>\n",
       "    </tr>\n",
       "  </tbody>\n",
       "</table>\n",
       "</div>"
      ],
      "text/plain": [
       "      x1  x2  y\n",
       "0  45000   2  0\n",
       "1  40000   4  0\n",
       "2  60000   3  1\n",
       "3  50000   2  1\n",
       "4  55000   2  0"
      ]
     },
     "execution_count": 3,
     "metadata": {},
     "output_type": "execute_result"
    }
   ],
   "source": [
    "# read in file\n",
    "df = pd.read_csv(\"lab6_data.csv\")\n",
    "df.head()"
   ]
  },
  {
   "cell_type": "markdown",
   "metadata": {},
   "source": [
    "### (a) (3 points)"
   ]
  },
  {
   "cell_type": "markdown",
   "metadata": {},
   "source": [
    "**Fit a *multiple linear regression* with both covariates income ($x_1$) and age ($x_2$). Report your regression equation, the R-squared value, and the adjusted R-squared value. (For the regression equation, please round coefficient estimates to *five* decimal places.)**"
   ]
  },
  {
   "cell_type": "code",
   "execution_count": 4,
   "metadata": {},
   "outputs": [
    {
     "data": {
      "text/html": [
       "<table class=\"simpletable\">\n",
       "<caption>OLS Regression Results</caption>\n",
       "<tr>\n",
       "  <th>Dep. Variable:</th>            <td>y</td>        <th>  R-squared:         </th> <td>   0.263</td>\n",
       "</tr>\n",
       "<tr>\n",
       "  <th>Model:</th>                   <td>OLS</td>       <th>  Adj. R-squared:    </th> <td>   0.176</td>\n",
       "</tr>\n",
       "<tr>\n",
       "  <th>Method:</th>             <td>Least Squares</td>  <th>  F-statistic:       </th> <td>   3.031</td>\n",
       "</tr>\n",
       "<tr>\n",
       "  <th>Date:</th>             <td>Sun, 12 Nov 2023</td> <th>  Prob (F-statistic):</th>  <td>0.0748</td> \n",
       "</tr>\n",
       "<tr>\n",
       "  <th>Time:</th>                 <td>17:54:44</td>     <th>  Log-Likelihood:    </th> <td> -11.466</td>\n",
       "</tr>\n",
       "<tr>\n",
       "  <th>No. Observations:</th>      <td>    20</td>      <th>  AIC:               </th> <td>   28.93</td>\n",
       "</tr>\n",
       "<tr>\n",
       "  <th>Df Residuals:</th>          <td>    17</td>      <th>  BIC:               </th> <td>   31.92</td>\n",
       "</tr>\n",
       "<tr>\n",
       "  <th>Df Model:</th>              <td>     2</td>      <th>                     </th>     <td> </td>   \n",
       "</tr>\n",
       "<tr>\n",
       "  <th>Covariance Type:</th>      <td>nonrobust</td>    <th>                     </th>     <td> </td>   \n",
       "</tr>\n",
       "</table>\n",
       "<table class=\"simpletable\">\n",
       "<tr>\n",
       "      <td></td>         <th>coef</th>     <th>std err</th>      <th>t</th>      <th>P>|t|</th>  <th>[0.025</th>    <th>0.975]</th>  \n",
       "</tr>\n",
       "<tr>\n",
       "  <th>Intercept</th> <td>   -0.4966</td> <td>    0.706</td> <td>   -0.703</td> <td> 0.491</td> <td>   -1.987</td> <td>    0.993</td>\n",
       "</tr>\n",
       "<tr>\n",
       "  <th>x1</th>        <td> 9.485e-06</td> <td> 1.09e-05</td> <td>    0.867</td> <td> 0.398</td> <td>-1.36e-05</td> <td> 3.26e-05</td>\n",
       "</tr>\n",
       "<tr>\n",
       "  <th>x2</th>        <td>    0.1462</td> <td>    0.064</td> <td>    2.300</td> <td> 0.034</td> <td>    0.012</td> <td>    0.280</td>\n",
       "</tr>\n",
       "</table>\n",
       "<table class=\"simpletable\">\n",
       "<tr>\n",
       "  <th>Omnibus:</th>       <td> 5.892</td> <th>  Durbin-Watson:     </th> <td>   1.800</td>\n",
       "</tr>\n",
       "<tr>\n",
       "  <th>Prob(Omnibus):</th> <td> 0.053</td> <th>  Jarque-Bera (JB):  </th> <td>   1.769</td>\n",
       "</tr>\n",
       "<tr>\n",
       "  <th>Skew:</th>          <td> 0.213</td> <th>  Prob(JB):          </th> <td>   0.413</td>\n",
       "</tr>\n",
       "<tr>\n",
       "  <th>Kurtosis:</th>      <td> 1.607</td> <th>  Cond. No.          </th> <td>3.33e+05</td>\n",
       "</tr>\n",
       "</table><br/><br/>Notes:<br/>[1] Standard Errors assume that the covariance matrix of the errors is correctly specified.<br/>[2] The condition number is large, 3.33e+05. This might indicate that there are<br/>strong multicollinearity or other numerical problems."
      ],
      "text/latex": [
       "\\begin{center}\n",
       "\\begin{tabular}{lclc}\n",
       "\\toprule\n",
       "\\textbf{Dep. Variable:}    &        y         & \\textbf{  R-squared:         } &     0.263   \\\\\n",
       "\\textbf{Model:}            &       OLS        & \\textbf{  Adj. R-squared:    } &     0.176   \\\\\n",
       "\\textbf{Method:}           &  Least Squares   & \\textbf{  F-statistic:       } &     3.031   \\\\\n",
       "\\textbf{Date:}             & Sun, 12 Nov 2023 & \\textbf{  Prob (F-statistic):} &   0.0748    \\\\\n",
       "\\textbf{Time:}             &     17:54:44     & \\textbf{  Log-Likelihood:    } &   -11.466   \\\\\n",
       "\\textbf{No. Observations:} &          20      & \\textbf{  AIC:               } &     28.93   \\\\\n",
       "\\textbf{Df Residuals:}     &          17      & \\textbf{  BIC:               } &     31.92   \\\\\n",
       "\\textbf{Df Model:}         &           2      & \\textbf{                     } &             \\\\\n",
       "\\textbf{Covariance Type:}  &    nonrobust     & \\textbf{                     } &             \\\\\n",
       "\\bottomrule\n",
       "\\end{tabular}\n",
       "\\begin{tabular}{lcccccc}\n",
       "                   & \\textbf{coef} & \\textbf{std err} & \\textbf{t} & \\textbf{P$> |$t$|$} & \\textbf{[0.025} & \\textbf{0.975]}  \\\\\n",
       "\\midrule\n",
       "\\textbf{Intercept} &      -0.4966  &        0.706     &    -0.703  &         0.491        &       -1.987    &        0.993     \\\\\n",
       "\\textbf{x1}        &    9.485e-06  &     1.09e-05     &     0.867  &         0.398        &    -1.36e-05    &     3.26e-05     \\\\\n",
       "\\textbf{x2}        &       0.1462  &        0.064     &     2.300  &         0.034        &        0.012    &        0.280     \\\\\n",
       "\\bottomrule\n",
       "\\end{tabular}\n",
       "\\begin{tabular}{lclc}\n",
       "\\textbf{Omnibus:}       &  5.892 & \\textbf{  Durbin-Watson:     } &    1.800  \\\\\n",
       "\\textbf{Prob(Omnibus):} &  0.053 & \\textbf{  Jarque-Bera (JB):  } &    1.769  \\\\\n",
       "\\textbf{Skew:}          &  0.213 & \\textbf{  Prob(JB):          } &    0.413  \\\\\n",
       "\\textbf{Kurtosis:}      &  1.607 & \\textbf{  Cond. No.          } & 3.33e+05  \\\\\n",
       "\\bottomrule\n",
       "\\end{tabular}\n",
       "%\\caption{OLS Regression Results}\n",
       "\\end{center}\n",
       "\n",
       "Notes: \\newline\n",
       " [1] Standard Errors assume that the covariance matrix of the errors is correctly specified. \\newline\n",
       " [2] The condition number is large, 3.33e+05. This might indicate that there are \\newline\n",
       " strong multicollinearity or other numerical problems."
      ],
      "text/plain": [
       "<class 'statsmodels.iolib.summary.Summary'>\n",
       "\"\"\"\n",
       "                            OLS Regression Results                            \n",
       "==============================================================================\n",
       "Dep. Variable:                      y   R-squared:                       0.263\n",
       "Model:                            OLS   Adj. R-squared:                  0.176\n",
       "Method:                 Least Squares   F-statistic:                     3.031\n",
       "Date:                Sun, 12 Nov 2023   Prob (F-statistic):             0.0748\n",
       "Time:                        17:54:44   Log-Likelihood:                -11.466\n",
       "No. Observations:                  20   AIC:                             28.93\n",
       "Df Residuals:                      17   BIC:                             31.92\n",
       "Df Model:                           2                                         \n",
       "Covariance Type:            nonrobust                                         \n",
       "==============================================================================\n",
       "                 coef    std err          t      P>|t|      [0.025      0.975]\n",
       "------------------------------------------------------------------------------\n",
       "Intercept     -0.4966      0.706     -0.703      0.491      -1.987       0.993\n",
       "x1          9.485e-06   1.09e-05      0.867      0.398   -1.36e-05    3.26e-05\n",
       "x2             0.1462      0.064      2.300      0.034       0.012       0.280\n",
       "==============================================================================\n",
       "Omnibus:                        5.892   Durbin-Watson:                   1.800\n",
       "Prob(Omnibus):                  0.053   Jarque-Bera (JB):                1.769\n",
       "Skew:                           0.213   Prob(JB):                        0.413\n",
       "Kurtosis:                       1.607   Cond. No.                     3.33e+05\n",
       "==============================================================================\n",
       "\n",
       "Notes:\n",
       "[1] Standard Errors assume that the covariance matrix of the errors is correctly specified.\n",
       "[2] The condition number is large, 3.33e+05. This might indicate that there are\n",
       "strong multicollinearity or other numerical problems.\n",
       "\"\"\""
      ]
     },
     "execution_count": 4,
     "metadata": {},
     "output_type": "execute_result"
    }
   ],
   "source": [
    "lm_model = smf.ols(\n",
    "        formula = 'y ~ x1 + x2',data=df).fit()\n",
    "lm_model.summary()"
   ]
  },
  {
   "cell_type": "markdown",
   "metadata": {},
   "source": [
    "The regression equation is:\n",
    "\n",
    "y = -0.49660 + 0.000009485x1 + 0.14620x2, The R-squared value is 0.263, The adjusted R-squared value is 0.176\n"
   ]
  },
  {
   "cell_type": "markdown",
   "metadata": {},
   "source": [
    "### (b) (1 points)"
   ]
  },
  {
   "cell_type": "markdown",
   "metadata": {},
   "source": [
    "**Use your output from part (a) to conduct a model utility test using a significance level of $\\alpha=0.05$ to decide if the model is significant. State your conclusion and how you obtained it.**"
   ]
  },
  {
   "cell_type": "markdown",
   "metadata": {},
   "source": [
    "**Answer**\n",
    "\n",
    "The Prob (F-statistic) = 0.0748 and our chosen significance level (𝛼) is 0.05. Therefore, we fail to reject the null hypothesis and we cannot conclude that the model is significant at the 0.05 level."
   ]
  },
  {
   "cell_type": "markdown",
   "metadata": {},
   "source": [
    "### (c) (5 points)"
   ]
  },
  {
   "cell_type": "markdown",
   "metadata": {},
   "source": [
    "**Fit a multiple logistic regression model to the data.**"
   ]
  },
  {
   "cell_type": "markdown",
   "metadata": {},
   "source": [
    "1. **Report the regression equation. (Round coefficient estimates to *five* decimal places).**"
   ]
  },
  {
   "cell_type": "code",
   "execution_count": 6,
   "metadata": {},
   "outputs": [
    {
     "name": "stdout",
     "output_type": "stream",
     "text": [
      "Optimization terminated successfully.\n",
      "         Current function value: 0.526785\n",
      "         Iterations 6\n"
     ]
    },
    {
     "data": {
      "text/html": [
       "<table class=\"simpletable\">\n",
       "<caption>Logit Regression Results</caption>\n",
       "<tr>\n",
       "  <th>Dep. Variable:</th>           <td>y</td>        <th>  No. Observations:  </th>  <td>    20</td> \n",
       "</tr>\n",
       "<tr>\n",
       "  <th>Model:</th>                 <td>Logit</td>      <th>  Df Residuals:      </th>  <td>    17</td> \n",
       "</tr>\n",
       "<tr>\n",
       "  <th>Method:</th>                 <td>MLE</td>       <th>  Df Model:          </th>  <td>     2</td> \n",
       "</tr>\n",
       "<tr>\n",
       "  <th>Date:</th>            <td>Sun, 12 Nov 2023</td> <th>  Pseudo R-squ.:     </th>  <td>0.2400</td> \n",
       "</tr>\n",
       "<tr>\n",
       "  <th>Time:</th>                <td>18:11:18</td>     <th>  Log-Likelihood:    </th> <td> -10.536</td>\n",
       "</tr>\n",
       "<tr>\n",
       "  <th>converged:</th>             <td>True</td>       <th>  LL-Null:           </th> <td> -13.863</td>\n",
       "</tr>\n",
       "<tr>\n",
       "  <th>Covariance Type:</th>     <td>nonrobust</td>    <th>  LLR p-value:       </th>  <td>0.03589</td>\n",
       "</tr>\n",
       "</table>\n",
       "<table class=\"simpletable\">\n",
       "<tr>\n",
       "      <td></td>         <th>coef</th>     <th>std err</th>      <th>z</th>      <th>P>|z|</th>  <th>[0.025</th>    <th>0.975]</th>  \n",
       "</tr>\n",
       "<tr>\n",
       "  <th>Intercept</th> <td>   -7.0138</td> <td>    4.633</td> <td>   -1.514</td> <td> 0.130</td> <td>  -16.094</td> <td>    2.066</td>\n",
       "</tr>\n",
       "<tr>\n",
       "  <th>x1</th>        <td> 7.354e-05</td> <td> 6.33e-05</td> <td>    1.162</td> <td> 0.245</td> <td>-5.05e-05</td> <td>    0.000</td>\n",
       "</tr>\n",
       "<tr>\n",
       "  <th>x2</th>        <td>    0.9831</td> <td>    0.523</td> <td>    1.879</td> <td> 0.060</td> <td>   -0.042</td> <td>    2.009</td>\n",
       "</tr>\n",
       "</table>"
      ],
      "text/latex": [
       "\\begin{center}\n",
       "\\begin{tabular}{lclc}\n",
       "\\toprule\n",
       "\\textbf{Dep. Variable:}   &        y         & \\textbf{  No. Observations:  } &       20    \\\\\n",
       "\\textbf{Model:}           &      Logit       & \\textbf{  Df Residuals:      } &       17    \\\\\n",
       "\\textbf{Method:}          &       MLE        & \\textbf{  Df Model:          } &        2    \\\\\n",
       "\\textbf{Date:}            & Sun, 12 Nov 2023 & \\textbf{  Pseudo R-squ.:     } &   0.2400    \\\\\n",
       "\\textbf{Time:}            &     18:11:18     & \\textbf{  Log-Likelihood:    } &   -10.536   \\\\\n",
       "\\textbf{converged:}       &       True       & \\textbf{  LL-Null:           } &   -13.863   \\\\\n",
       "\\textbf{Covariance Type:} &    nonrobust     & \\textbf{  LLR p-value:       } &  0.03589    \\\\\n",
       "\\bottomrule\n",
       "\\end{tabular}\n",
       "\\begin{tabular}{lcccccc}\n",
       "                   & \\textbf{coef} & \\textbf{std err} & \\textbf{z} & \\textbf{P$> |$z$|$} & \\textbf{[0.025} & \\textbf{0.975]}  \\\\\n",
       "\\midrule\n",
       "\\textbf{Intercept} &      -7.0138  &        4.633     &    -1.514  &         0.130        &      -16.094    &        2.066     \\\\\n",
       "\\textbf{x1}        &    7.354e-05  &     6.33e-05     &     1.162  &         0.245        &    -5.05e-05    &        0.000     \\\\\n",
       "\\textbf{x2}        &       0.9831  &        0.523     &     1.879  &         0.060        &       -0.042    &        2.009     \\\\\n",
       "\\bottomrule\n",
       "\\end{tabular}\n",
       "%\\caption{Logit Regression Results}\n",
       "\\end{center}"
      ],
      "text/plain": [
       "<class 'statsmodels.iolib.summary.Summary'>\n",
       "\"\"\"\n",
       "                           Logit Regression Results                           \n",
       "==============================================================================\n",
       "Dep. Variable:                      y   No. Observations:                   20\n",
       "Model:                          Logit   Df Residuals:                       17\n",
       "Method:                           MLE   Df Model:                            2\n",
       "Date:                Sun, 12 Nov 2023   Pseudo R-squ.:                  0.2400\n",
       "Time:                        18:11:18   Log-Likelihood:                -10.536\n",
       "converged:                       True   LL-Null:                       -13.863\n",
       "Covariance Type:            nonrobust   LLR p-value:                   0.03589\n",
       "==============================================================================\n",
       "                 coef    std err          z      P>|z|      [0.025      0.975]\n",
       "------------------------------------------------------------------------------\n",
       "Intercept     -7.0138      4.633     -1.514      0.130     -16.094       2.066\n",
       "x1          7.354e-05   6.33e-05      1.162      0.245   -5.05e-05       0.000\n",
       "x2             0.9831      0.523      1.879      0.060      -0.042       2.009\n",
       "==============================================================================\n",
       "\"\"\""
      ]
     },
     "execution_count": 6,
     "metadata": {},
     "output_type": "execute_result"
    }
   ],
   "source": [
    "multiple_logit_model = smf.logit(formula = 'y ~ x1 + x2', data = df).fit()\n",
    "multiple_logit_model.summary()"
   ]
  },
  {
   "cell_type": "markdown",
   "metadata": {},
   "source": [
    "**Answer**\n",
    "The logistic regression equation based on the output provided would be:\n",
    "y = -7.01380 + 0.00007354x1 + 0.98310x2"
   ]
  },
  {
   "cell_type": "markdown",
   "metadata": {},
   "source": [
    "2. **State the covariates that are significant at a significance level of $\\alpha=0.1$.**"
   ]
  },
  {
   "cell_type": "markdown",
   "metadata": {},
   "source": [
    "**Answer**\n",
    "\n",
    "The p-value for x2 is 0.060, which is less than 𝛼=0.1, so x2 is statistically significant at a significance level of  𝛼=0.1."
   ]
  },
  {
   "cell_type": "markdown",
   "metadata": {},
   "source": [
    "### (d) (2 points)"
   ]
  },
  {
   "cell_type": "markdown",
   "metadata": {},
   "source": [
    "1. **Obtain the odds ratio for each of the covariates.**"
   ]
  },
  {
   "cell_type": "code",
   "execution_count": 8,
   "metadata": {},
   "outputs": [
    {
     "data": {
      "text/plain": [
       "Intercept    0.000899\n",
       "x1           1.000074\n",
       "x2           2.672802\n",
       "dtype: float64"
      ]
     },
     "execution_count": 8,
     "metadata": {},
     "output_type": "execute_result"
    }
   ],
   "source": [
    "np.exp(multiple_logit_model.params)"
   ]
  },
  {
   "cell_type": "markdown",
   "metadata": {},
   "source": [
    "**Answer**\n",
    "x1 = 1.000074\n",
    "x2 = 2.672802\n"
   ]
  },
  {
   "cell_type": "markdown",
   "metadata": {},
   "source": [
    "2. **Interpret the meaning of the odds ratios in words.**"
   ]
  },
  {
   "cell_type": "markdown",
   "metadata": {},
   "source": [
    "**Answer**\n",
    "\n",
    "The odds ratio for a variable represents the multiplicative change in the odds for a 1-unit increase in the variable, holding all other variables constant.\n",
    "\n",
    "x1: This corresponds to an increase of odds by a factor of 1.00007354 for each one-unit increase in x1, holding x2 constant. However, because the odds ratio is so close to 1, the effect on the odds is very small and may not be considered meaningful.\n",
    "\n",
    "x2: This corresponds to an increase of odds by a factor of approximately 2.67265 for each one-unit increase in x2, holding x1 constant. This means, all else being equal, for each one-unit increase in X2, the odds that 'y' occurs (i.e., y=1) are roughly 2.67 times higher."
   ]
  },
  {
   "cell_type": "markdown",
   "metadata": {},
   "source": [
    "### (e) (1 points) \n",
    "\n",
    "**What is the estimated probability that a family with an income of $45,000 and a car that is 5 years old will purchase a new vehicle in the next six months?**"
   ]
  },
  {
   "cell_type": "code",
   "execution_count": 9,
   "metadata": {},
   "outputs": [
    {
     "name": "stdout",
     "output_type": "stream",
     "text": [
      "The estimated probability that a family with an income of $45,000 and a car that is 5 years old will purchase a new vehicle in the next six months is 0.77\n"
     ]
    }
   ],
   "source": [
    "# Define coefficients\n",
    "coef_intercept = -7.01380\n",
    "coef_x1 = 0.00007354\n",
    "coef_x2 = 0.98310\n",
    "\n",
    "# Define variables\n",
    "x1 = 45000  # Income\n",
    "x2 = 5  # Car age\n",
    "\n",
    "# Compute log-odds\n",
    "log_odds = coef_intercept + coef_x1 * x1 + coef_x2 * x2\n",
    "\n",
    "# Compute probability with logistic function\n",
    "prob = 1 / (1 + np.exp(-log_odds))\n",
    "\n",
    "print(\"The estimated probability that a family with an income of $45,000 and a car that is 5 years old will purchase a new vehicle in the next six months is {:.2f}\".format(prob))\n"
   ]
  },
  {
   "cell_type": "markdown",
   "metadata": {},
   "source": [
    "**Answer**\n",
    "0.77\n"
   ]
  }
 ],
 "metadata": {
  "kernelspec": {
   "display_name": "Python 3 (ipykernel)",
   "language": "python",
   "name": "python3"
  },
  "language_info": {
   "codemirror_mode": {
    "name": "ipython",
    "version": 3
   },
   "file_extension": ".py",
   "mimetype": "text/x-python",
   "name": "python",
   "nbconvert_exporter": "python",
   "pygments_lexer": "ipython3",
   "version": "3.11.4"
  }
 },
 "nbformat": 4,
 "nbformat_minor": 4
}
